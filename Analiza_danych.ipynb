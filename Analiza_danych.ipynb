{
 "cells": [
  {
   "cell_type": "markdown",
   "id": "e36604a8-6034-461a-9fc2-b97dd13eb576",
   "metadata": {
    "tags": []
   },
   "source": [
    "# Nagłówek 1\n",
    "## Nagłówek 2\n",
    "### Nagłówek 3\n",
    "\n",
    "**pogrubiony tekst**\n",
    "\n",
    "```formatowanie w bloku```\n",
    "\n",
    "```python\n",
    "for letter in word:\n",
    "    print(letter)\n",
    "```\n",
    "\n",
    "[Strona Google](https://google.com)\n",
    "\n",
    "1. Punkt 1\n",
    "2. Kolejny punkt\n",
    "\n",
    "- [ ] zadanie 1\n",
    "- [X] zadanie 2\n",
    "\n",
    "Zwykły tekst"
   ]
  },
  {
   "cell_type": "code",
   "execution_count": 2,
   "id": "3362fe16-2864-4937-bc7d-03b93fcd8995",
   "metadata": {
    "tags": []
   },
   "outputs": [
    {
     "name": "stdout",
     "output_type": "stream",
     "text": [
      "Hello world!\n"
     ]
    }
   ],
   "source": [
    "print(\"Hello world!\")"
   ]
  },
  {
   "cell_type": "code",
   "execution_count": 3,
   "id": "695efea7-e271-4786-ae81-0bce442265c8",
   "metadata": {
    "tags": []
   },
   "outputs": [
    {
     "data": {
      "text/plain": [
       "'Hello world!'"
      ]
     },
     "execution_count": 3,
     "metadata": {},
     "output_type": "execute_result"
    }
   ],
   "source": [
    "\"Hello world!\""
   ]
  },
  {
   "cell_type": "code",
   "execution_count": 4,
   "id": "ebc60bae-dfbd-4c72-87d7-a30b1c92a08e",
   "metadata": {
    "tags": []
   },
   "outputs": [],
   "source": [
    "a = 2\n",
    "b = 5"
   ]
  },
  {
   "cell_type": "code",
   "execution_count": 5,
   "id": "6f3ee207-3c8e-4f48-9d77-e94a573a51b5",
   "metadata": {
    "tags": []
   },
   "outputs": [
    {
     "data": {
      "text/plain": [
       "5"
      ]
     },
     "execution_count": 5,
     "metadata": {},
     "output_type": "execute_result"
    }
   ],
   "source": [
    "a\n",
    "b"
   ]
  },
  {
   "cell_type": "code",
   "execution_count": 6,
   "id": "19ecddf3-3038-4777-92fe-7c83ec17854c",
   "metadata": {
    "tags": []
   },
   "outputs": [
    {
     "name": "stdout",
     "output_type": "stream",
     "text": [
      "2\n",
      "5\n"
     ]
    }
   ],
   "source": [
    "print(a)\n",
    "print(b)"
   ]
  },
  {
   "cell_type": "code",
   "execution_count": 7,
   "id": "85f1dc3d-cc89-4074-916b-674f51065d50",
   "metadata": {
    "tags": []
   },
   "outputs": [
    {
     "name": "stdout",
     "output_type": "stream",
     "text": [
      "2\n",
      "5\n"
     ]
    }
   ],
   "source": [
    "print(a, b, sep=\"\\n\")"
   ]
  },
  {
   "cell_type": "code",
   "execution_count": 8,
   "id": "c87b7415-1575-4f83-8742-f687c358ea88",
   "metadata": {
    "tags": []
   },
   "outputs": [
    {
     "name": "stdout",
     "output_type": "stream",
     "text": [
      "Analiza_danych.ipynb \u001b[34mLibrary\u001b[m\u001b[m              \u001b[34mPublic\u001b[m\u001b[m\n",
      "\u001b[34mApplications\u001b[m\u001b[m         \u001b[34mML-datasets\u001b[m\u001b[m          \u001b[34mPycharmProjects\u001b[m\u001b[m\n",
      "\u001b[34mDesktop\u001b[m\u001b[m              \u001b[34mML-datasets-master\u001b[m\u001b[m   \u001b[34msome_materials\u001b[m\u001b[m\n",
      "\u001b[34mDocuments\u001b[m\u001b[m            \u001b[34mMovies\u001b[m\u001b[m               \u001b[34mThisIsFine\u001b[m\u001b[m\n",
      "\u001b[34mDownloads\u001b[m\u001b[m            \u001b[34mMusic\u001b[m\u001b[m                \u001b[34mTrasee\u001b[m\u001b[m\n",
      "\u001b[34mJsystems\u001b[m\u001b[m             \u001b[34mopera\u001b[m\u001b[m\n",
      "\u001b[34mkurs gamedev\u001b[m\u001b[m         \u001b[34mPictures\u001b[m\u001b[m\n"
     ]
    }
   ],
   "source": [
    "# ! - dostęp do wiersza poleceń - zmiana interpretera z Pythona na Bash\n",
    "!ls # !dir"
   ]
  },
  {
   "cell_type": "code",
   "execution_count": 9,
   "id": "e8a01717-a0f0-4e68-b776-6b5e9b05e816",
   "metadata": {
    "tags": []
   },
   "outputs": [],
   "source": [
    "# !pip freeze # lista zainstalowanych bibliotek"
   ]
  },
  {
   "cell_type": "code",
   "execution_count": 10,
   "id": "62414b3d-3fe3-4b67-89d2-cf6ce169f1be",
   "metadata": {
    "tags": []
   },
   "outputs": [
    {
     "name": "stdout",
     "output_type": "stream",
     "text": [
      "geopandas==0.14.4\n",
      "pandas==2.2.3\n"
     ]
    }
   ],
   "source": [
    "!pip freeze | grep pandas #!pip freeze | findstr pandas"
   ]
  },
  {
   "cell_type": "markdown",
   "id": "8c067720-6363-4a24-8036-a9d48409ecae",
   "metadata": {
    "tags": []
   },
   "source": [
    "# Pandas"
   ]
  },
  {
   "cell_type": "code",
   "execution_count": 25,
   "id": "8918984f-1b4b-4dc8-8345-f8e69ab97429",
   "metadata": {
    "tags": []
   },
   "outputs": [],
   "source": [
    "import pandas as pd\n",
    "import numpy as np"
   ]
  },
  {
   "cell_type": "code",
   "execution_count": 12,
   "id": "8999c3dc-7b15-4f11-9d4e-ba7b55818ee0",
   "metadata": {
    "tags": []
   },
   "outputs": [
    {
     "data": {
      "text/plain": [
       "'2.2.3'"
      ]
     },
     "execution_count": 12,
     "metadata": {},
     "output_type": "execute_result"
    }
   ],
   "source": [
    "pd.__version__"
   ]
  },
  {
   "cell_type": "markdown",
   "id": "e77e4209-a843-4aa1-ba42-9bc95a1a9bd9",
   "metadata": {
    "tags": []
   },
   "source": [
    "## Serie danych"
   ]
  },
  {
   "cell_type": "code",
   "execution_count": 18,
   "id": "add26a14-2f0d-42fe-8ae5-17da424a99d4",
   "metadata": {
    "tags": []
   },
   "outputs": [
    {
     "data": {
      "text/plain": [
       "pandas.core.series.Series"
      ]
     },
     "execution_count": 18,
     "metadata": {},
     "output_type": "execute_result"
    }
   ],
   "source": [
    "s1 = pd.Series([1,2,3,4,5,6])\n",
    "s1\n",
    "s2 = pd.Series([1,2,3,4,5,\"Ala ma kota\"])\n",
    "s2\n",
    "s3 = pd.Series([1,2,3,4,5,6], dtype=\"float64\")\n",
    "s3\n",
    "type(s3)"
   ]
  },
  {
   "cell_type": "markdown",
   "id": "cd64ef02-e3e8-4622-8e1c-222f276f3fdf",
   "metadata": {},
   "source": [
    "## DataFrame"
   ]
  },
  {
   "cell_type": "code",
   "execution_count": 24,
   "id": "030a77ad-d085-4a49-bce1-6e1ed2463ebe",
   "metadata": {
    "tags": []
   },
   "outputs": [
    {
     "name": "stdout",
     "output_type": "stream",
     "text": [
      "   0  1  2\n",
      "0  1  2  3\n",
      "1  4  5  6\n"
     ]
    },
    {
     "data": {
      "text/html": [
       "<div>\n",
       "<style scoped>\n",
       "    .dataframe tbody tr th:only-of-type {\n",
       "        vertical-align: middle;\n",
       "    }\n",
       "\n",
       "    .dataframe tbody tr th {\n",
       "        vertical-align: top;\n",
       "    }\n",
       "\n",
       "    .dataframe thead th {\n",
       "        text-align: right;\n",
       "    }\n",
       "</style>\n",
       "<table border=\"1\" class=\"dataframe\">\n",
       "  <thead>\n",
       "    <tr style=\"text-align: right;\">\n",
       "      <th></th>\n",
       "      <th>0</th>\n",
       "      <th>1</th>\n",
       "      <th>2</th>\n",
       "    </tr>\n",
       "  </thead>\n",
       "  <tbody>\n",
       "    <tr>\n",
       "      <th>0</th>\n",
       "      <td>1</td>\n",
       "      <td>2</td>\n",
       "      <td>3</td>\n",
       "    </tr>\n",
       "    <tr>\n",
       "      <th>1</th>\n",
       "      <td>4</td>\n",
       "      <td>5</td>\n",
       "      <td>6</td>\n",
       "    </tr>\n",
       "  </tbody>\n",
       "</table>\n",
       "</div>"
      ],
      "text/plain": [
       "   0  1  2\n",
       "0  1  2  3\n",
       "1  4  5  6"
      ]
     },
     "metadata": {},
     "output_type": "display_data"
    },
    {
     "data": {
      "text/plain": [
       "pandas.core.series.Series"
      ]
     },
     "execution_count": 24,
     "metadata": {},
     "output_type": "execute_result"
    }
   ],
   "source": [
    "df1 = pd.DataFrame([[1,2,3],[4,5,6]])\n",
    "print(df1)\n",
    "display(df1)\n",
    "type(df1)\n",
    "df1[0]\n",
    "type(df1[0])"
   ]
  },
  {
   "cell_type": "code",
   "execution_count": 28,
   "id": "802f8b08-aa17-4c6d-a632-81250c71efeb",
   "metadata": {},
   "outputs": [
    {
     "data": {
      "text/html": [
       "<div>\n",
       "<style scoped>\n",
       "    .dataframe tbody tr th:only-of-type {\n",
       "        vertical-align: middle;\n",
       "    }\n",
       "\n",
       "    .dataframe tbody tr th {\n",
       "        vertical-align: top;\n",
       "    }\n",
       "\n",
       "    .dataframe thead th {\n",
       "        text-align: right;\n",
       "    }\n",
       "</style>\n",
       "<table border=\"1\" class=\"dataframe\">\n",
       "  <thead>\n",
       "    <tr style=\"text-align: right;\">\n",
       "      <th></th>\n",
       "      <th>A</th>\n",
       "      <th>B</th>\n",
       "      <th>C</th>\n",
       "    </tr>\n",
       "  </thead>\n",
       "  <tbody>\n",
       "    <tr>\n",
       "      <th>2019</th>\n",
       "      <td>0.155554</td>\n",
       "      <td>-0.587340</td>\n",
       "      <td>1.490594</td>\n",
       "    </tr>\n",
       "    <tr>\n",
       "      <th>2020</th>\n",
       "      <td>0.462220</td>\n",
       "      <td>1.802690</td>\n",
       "      <td>-0.029760</td>\n",
       "    </tr>\n",
       "    <tr>\n",
       "      <th>2021</th>\n",
       "      <td>-0.684955</td>\n",
       "      <td>1.457179</td>\n",
       "      <td>-0.511554</td>\n",
       "    </tr>\n",
       "    <tr>\n",
       "      <th>2022</th>\n",
       "      <td>0.924343</td>\n",
       "      <td>-1.434903</td>\n",
       "      <td>-1.570059</td>\n",
       "    </tr>\n",
       "    <tr>\n",
       "      <th>2023</th>\n",
       "      <td>0.049694</td>\n",
       "      <td>-0.679889</td>\n",
       "      <td>-1.832714</td>\n",
       "    </tr>\n",
       "    <tr>\n",
       "      <th>2024</th>\n",
       "      <td>0.111963</td>\n",
       "      <td>-0.909262</td>\n",
       "      <td>1.563799</td>\n",
       "    </tr>\n",
       "    <tr>\n",
       "      <th>2025</th>\n",
       "      <td>-0.793321</td>\n",
       "      <td>-3.029738</td>\n",
       "      <td>-0.226433</td>\n",
       "    </tr>\n",
       "  </tbody>\n",
       "</table>\n",
       "</div>"
      ],
      "text/plain": [
       "             A         B         C\n",
       "2019  0.155554 -0.587340  1.490594\n",
       "2020  0.462220  1.802690 -0.029760\n",
       "2021 -0.684955  1.457179 -0.511554\n",
       "2022  0.924343 -1.434903 -1.570059\n",
       "2023  0.049694 -0.679889 -1.832714\n",
       "2024  0.111963 -0.909262  1.563799\n",
       "2025 -0.793321 -3.029738 -0.226433"
      ]
     },
     "execution_count": 28,
     "metadata": {},
     "output_type": "execute_result"
    }
   ],
   "source": [
    "df2 = pd.DataFrame(np.random.randn(7,3), index=[2019,2020,2021,2022,2023,2024,2025], columns=[\"A\", \"B\", \"C\"])\n",
    "df2"
   ]
  },
  {
   "cell_type": "markdown",
   "id": "b2a770ca-c480-4748-a892-7ce4bfc5d41a",
   "metadata": {},
   "source": [
    "## Praca z rzeczywistymi danymi"
   ]
  },
  {
   "cell_type": "code",
   "execution_count": 31,
   "id": "1bbe652e-4a70-45cf-9903-d0c9bb077e1c",
   "metadata": {
    "tags": []
   },
   "outputs": [],
   "source": [
    "# !git clone https://github.com/matzim95/ML-datasets"
   ]
  },
  {
   "cell_type": "code",
   "execution_count": 33,
   "id": "e241edbc-273b-424a-94d4-2d38e2ad5127",
   "metadata": {
    "tags": []
   },
   "outputs": [
    {
     "data": {
      "text/html": [
       "<div>\n",
       "<style scoped>\n",
       "    .dataframe tbody tr th:only-of-type {\n",
       "        vertical-align: middle;\n",
       "    }\n",
       "\n",
       "    .dataframe tbody tr th {\n",
       "        vertical-align: top;\n",
       "    }\n",
       "\n",
       "    .dataframe thead th {\n",
       "        text-align: right;\n",
       "    }\n",
       "</style>\n",
       "<table border=\"1\" class=\"dataframe\">\n",
       "  <thead>\n",
       "    <tr style=\"text-align: right;\">\n",
       "      <th></th>\n",
       "      <th>order_id</th>\n",
       "      <th>quantity</th>\n",
       "      <th>item_name</th>\n",
       "      <th>choice_description</th>\n",
       "      <th>item_price</th>\n",
       "    </tr>\n",
       "  </thead>\n",
       "  <tbody>\n",
       "    <tr>\n",
       "      <th>0</th>\n",
       "      <td>1</td>\n",
       "      <td>1</td>\n",
       "      <td>Chips and Fresh Tomato Salsa</td>\n",
       "      <td>NaN</td>\n",
       "      <td>$2.39</td>\n",
       "    </tr>\n",
       "    <tr>\n",
       "      <th>1</th>\n",
       "      <td>1</td>\n",
       "      <td>1</td>\n",
       "      <td>Izze</td>\n",
       "      <td>[Clementine]</td>\n",
       "      <td>$3.39</td>\n",
       "    </tr>\n",
       "    <tr>\n",
       "      <th>2</th>\n",
       "      <td>1</td>\n",
       "      <td>1</td>\n",
       "      <td>Nantucket Nectar</td>\n",
       "      <td>[Apple]</td>\n",
       "      <td>$3.39</td>\n",
       "    </tr>\n",
       "    <tr>\n",
       "      <th>3</th>\n",
       "      <td>1</td>\n",
       "      <td>1</td>\n",
       "      <td>Chips and Tomatillo-Green Chili Salsa</td>\n",
       "      <td>NaN</td>\n",
       "      <td>$2.39</td>\n",
       "    </tr>\n",
       "    <tr>\n",
       "      <th>4</th>\n",
       "      <td>2</td>\n",
       "      <td>2</td>\n",
       "      <td>Chicken Bowl</td>\n",
       "      <td>[Tomatillo-Red Chili Salsa (Hot), [Black Beans...</td>\n",
       "      <td>$16.98</td>\n",
       "    </tr>\n",
       "    <tr>\n",
       "      <th>...</th>\n",
       "      <td>...</td>\n",
       "      <td>...</td>\n",
       "      <td>...</td>\n",
       "      <td>...</td>\n",
       "      <td>...</td>\n",
       "    </tr>\n",
       "    <tr>\n",
       "      <th>4617</th>\n",
       "      <td>1833</td>\n",
       "      <td>1</td>\n",
       "      <td>Steak Burrito</td>\n",
       "      <td>[Fresh Tomato Salsa, [Rice, Black Beans, Sour ...</td>\n",
       "      <td>$11.75</td>\n",
       "    </tr>\n",
       "    <tr>\n",
       "      <th>4618</th>\n",
       "      <td>1833</td>\n",
       "      <td>1</td>\n",
       "      <td>Steak Burrito</td>\n",
       "      <td>[Fresh Tomato Salsa, [Rice, Sour Cream, Cheese...</td>\n",
       "      <td>$11.75</td>\n",
       "    </tr>\n",
       "    <tr>\n",
       "      <th>4619</th>\n",
       "      <td>1834</td>\n",
       "      <td>1</td>\n",
       "      <td>Chicken Salad Bowl</td>\n",
       "      <td>[Fresh Tomato Salsa, [Fajita Vegetables, Pinto...</td>\n",
       "      <td>$11.25</td>\n",
       "    </tr>\n",
       "    <tr>\n",
       "      <th>4620</th>\n",
       "      <td>1834</td>\n",
       "      <td>1</td>\n",
       "      <td>Chicken Salad Bowl</td>\n",
       "      <td>[Fresh Tomato Salsa, [Fajita Vegetables, Lettu...</td>\n",
       "      <td>$8.75</td>\n",
       "    </tr>\n",
       "    <tr>\n",
       "      <th>4621</th>\n",
       "      <td>1834</td>\n",
       "      <td>1</td>\n",
       "      <td>Chicken Salad Bowl</td>\n",
       "      <td>[Fresh Tomato Salsa, [Fajita Vegetables, Pinto...</td>\n",
       "      <td>$8.75</td>\n",
       "    </tr>\n",
       "  </tbody>\n",
       "</table>\n",
       "<p>4622 rows × 5 columns</p>\n",
       "</div>"
      ],
      "text/plain": [
       "      order_id  quantity                              item_name  \\\n",
       "0            1         1           Chips and Fresh Tomato Salsa   \n",
       "1            1         1                                   Izze   \n",
       "2            1         1                       Nantucket Nectar   \n",
       "3            1         1  Chips and Tomatillo-Green Chili Salsa   \n",
       "4            2         2                           Chicken Bowl   \n",
       "...        ...       ...                                    ...   \n",
       "4617      1833         1                          Steak Burrito   \n",
       "4618      1833         1                          Steak Burrito   \n",
       "4619      1834         1                     Chicken Salad Bowl   \n",
       "4620      1834         1                     Chicken Salad Bowl   \n",
       "4621      1834         1                     Chicken Salad Bowl   \n",
       "\n",
       "                                     choice_description item_price  \n",
       "0                                                   NaN     $2.39   \n",
       "1                                          [Clementine]     $3.39   \n",
       "2                                               [Apple]     $3.39   \n",
       "3                                                   NaN     $2.39   \n",
       "4     [Tomatillo-Red Chili Salsa (Hot), [Black Beans...    $16.98   \n",
       "...                                                 ...        ...  \n",
       "4617  [Fresh Tomato Salsa, [Rice, Black Beans, Sour ...    $11.75   \n",
       "4618  [Fresh Tomato Salsa, [Rice, Sour Cream, Cheese...    $11.75   \n",
       "4619  [Fresh Tomato Salsa, [Fajita Vegetables, Pinto...    $11.25   \n",
       "4620  [Fresh Tomato Salsa, [Fajita Vegetables, Lettu...     $8.75   \n",
       "4621  [Fresh Tomato Salsa, [Fajita Vegetables, Pinto...     $8.75   \n",
       "\n",
       "[4622 rows x 5 columns]"
      ]
     },
     "execution_count": 33,
     "metadata": {},
     "output_type": "execute_result"
    }
   ],
   "source": [
    "chipotle = pd.read_csv(\"ML-datasets-master/chipotle.tsv\", sep=\"\\t\")\n",
    "chipotle"
   ]
  },
  {
   "cell_type": "markdown",
   "id": "85c7fbcb-d08e-4089-955d-32dfce971faa",
   "metadata": {},
   "source": [
    "## Wyświetlanie danych"
   ]
  },
  {
   "cell_type": "code",
   "execution_count": 40,
   "id": "0f2fc00a-44d4-4395-9a1d-752e0f92d86c",
   "metadata": {
    "tags": []
   },
   "outputs": [
    {
     "data": {
      "text/html": [
       "<div>\n",
       "<style scoped>\n",
       "    .dataframe tbody tr th:only-of-type {\n",
       "        vertical-align: middle;\n",
       "    }\n",
       "\n",
       "    .dataframe tbody tr th {\n",
       "        vertical-align: top;\n",
       "    }\n",
       "\n",
       "    .dataframe thead th {\n",
       "        text-align: right;\n",
       "    }\n",
       "</style>\n",
       "<table border=\"1\" class=\"dataframe\">\n",
       "  <thead>\n",
       "    <tr style=\"text-align: right;\">\n",
       "      <th></th>\n",
       "      <th>order_id</th>\n",
       "      <th>quantity</th>\n",
       "      <th>item_name</th>\n",
       "      <th>choice_description</th>\n",
       "      <th>item_price</th>\n",
       "    </tr>\n",
       "  </thead>\n",
       "  <tbody>\n",
       "    <tr>\n",
       "      <th>1930</th>\n",
       "      <td>781</td>\n",
       "      <td>1</td>\n",
       "      <td>Chips and Guacamole</td>\n",
       "      <td>NaN</td>\n",
       "      <td>$4.45</td>\n",
       "    </tr>\n",
       "    <tr>\n",
       "      <th>2197</th>\n",
       "      <td>886</td>\n",
       "      <td>1</td>\n",
       "      <td>Steak Bowl</td>\n",
       "      <td>[Fresh Tomato Salsa, [Rice, Black Beans, Chees...</td>\n",
       "      <td>$11.75</td>\n",
       "    </tr>\n",
       "    <tr>\n",
       "      <th>558</th>\n",
       "      <td>231</td>\n",
       "      <td>1</td>\n",
       "      <td>Chips</td>\n",
       "      <td>NaN</td>\n",
       "      <td>$2.15</td>\n",
       "    </tr>\n",
       "    <tr>\n",
       "      <th>4038</th>\n",
       "      <td>1615</td>\n",
       "      <td>1</td>\n",
       "      <td>Steak Soft Tacos</td>\n",
       "      <td>[Tomatillo Red Chili Salsa, [Fajita Vegetables...</td>\n",
       "      <td>$9.25</td>\n",
       "    </tr>\n",
       "  </tbody>\n",
       "</table>\n",
       "</div>"
      ],
      "text/plain": [
       "      order_id  quantity            item_name  \\\n",
       "1930       781         1  Chips and Guacamole   \n",
       "2197       886         1           Steak Bowl   \n",
       "558        231         1                Chips   \n",
       "4038      1615         1     Steak Soft Tacos   \n",
       "\n",
       "                                     choice_description item_price  \n",
       "1930                                                NaN     $4.45   \n",
       "2197  [Fresh Tomato Salsa, [Rice, Black Beans, Chees...    $11.75   \n",
       "558                                                 NaN     $2.15   \n",
       "4038  [Tomatillo Red Chili Salsa, [Fajita Vegetables...     $9.25   "
      ]
     },
     "execution_count": 40,
     "metadata": {},
     "output_type": "execute_result"
    }
   ],
   "source": [
    "chipotle.head(7) # pierwsze n elementów (domyślnie 5)\n",
    "chipotle.tail(12) # ostatnie n elementów (domyślnie 5)\n",
    "chipotle.sample(4) # losowe n elementów (domyślnie 1)"
   ]
  },
  {
   "cell_type": "code",
   "execution_count": null,
   "id": "94d59f4f-861c-40b9-aab0-1177288457fa",
   "metadata": {
    "tags": []
   },
   "outputs": [],
   "source": [
    "chipotle.item_price # wyświetlenie kolumny - 1 szy sposób (tylko dla kolumn bez spacji)\n",
    "chipotle[\"item_price\"] # wyświetlenie kolumny - 2 szy sposób\n",
    "\n",
    "chipotle[[\"item_price\"]] # wyświetlanie jako dataframe\n",
    "chipotle[[\"item_price\", \"item_name\"]]"
   ]
  },
  {
   "cell_type": "code",
   "execution_count": 49,
   "id": "d2700099-6225-4564-a506-44bc73f13ebe",
   "metadata": {
    "tags": []
   },
   "outputs": [
    {
     "name": "stdout",
     "output_type": "stream",
     "text": [
      "<class 'pandas.core.frame.DataFrame'>\n",
      "RangeIndex: 4622 entries, 0 to 4621\n",
      "Data columns (total 5 columns):\n",
      " #   Column              Non-Null Count  Dtype \n",
      "---  ------              --------------  ----- \n",
      " 0   order_id            4622 non-null   int64 \n",
      " 1   quantity            4622 non-null   int64 \n",
      " 2   item_name           4622 non-null   object\n",
      " 3   choice_description  3376 non-null   object\n",
      " 4   item_price          4622 non-null   object\n",
      "dtypes: int64(2), object(3)\n",
      "memory usage: 180.7+ KB\n"
     ]
    }
   ],
   "source": [
    "chipotle.index # informacje o indeksie\n",
    "chipotle.columns\n",
    "#for column in chipotle.columns:\n",
    "#    ...\n",
    "chipotle.info() # ogólne informacje o danych"
   ]
  },
  {
   "cell_type": "code",
   "execution_count": 51,
   "id": "6d70d90a-b371-44cd-a512-1dbfa3df5b06",
   "metadata": {
    "tags": []
   },
   "outputs": [
    {
     "data": {
      "text/plain": [
       "'Chicken Bowl'"
      ]
     },
     "execution_count": 51,
     "metadata": {},
     "output_type": "execute_result"
    }
   ],
   "source": [
    "chipotle[\"item_name\"][5]"
   ]
  },
  {
   "cell_type": "code",
   "execution_count": null,
   "id": "8cd77736-9482-4e4c-85e0-bc145cf6f527",
   "metadata": {
    "tags": []
   },
   "outputs": [],
   "source": [
    "# df.loc[nazwy_indeksow, nazwy_kolumn] #WZÓR\n",
    "# df.iloc[numery_indeksow, nnumery_kolumn]\n",
    "\n",
    "chipotle.loc[5, \"item_name\"]\n",
    "chipotle.iloc[5, 2]\n",
    "\n",
    "# slicing od:do:krok\n",
    "chipotle.loc[2:50:3, \"item_price\"]\n",
    "chipotle.loc[:50:3, \"item_price\"] # od początku\n",
    "chipotle.loc[4000:4500, \"item_price\"]\n",
    "chipotle.loc[:, \"item_price\"] # wszystkie wiersze\n",
    "chipotle.loc[:, [\"item_price\", \"item_name\"]]\n",
    "\n",
    "chipotle.iloc[4000:-500, :] # wszystkie kolumny\n",
    "\n",
    "chipotle.iloc[2:50:3, 1:-1:2]"
   ]
  },
  {
   "cell_type": "markdown",
   "id": "283b833f-884d-4a93-82f0-171de7d9466d",
   "metadata": {},
   "source": [
    "## Warunki"
   ]
  },
  {
   "cell_type": "code",
   "execution_count": 84,
   "id": "be0787ac-9b95-4ab5-964f-9d238b8b98c4",
   "metadata": {
    "tags": []
   },
   "outputs": [
    {
     "data": {
      "text/html": [
       "<div>\n",
       "<style scoped>\n",
       "    .dataframe tbody tr th:only-of-type {\n",
       "        vertical-align: middle;\n",
       "    }\n",
       "\n",
       "    .dataframe tbody tr th {\n",
       "        vertical-align: top;\n",
       "    }\n",
       "\n",
       "    .dataframe thead th {\n",
       "        text-align: right;\n",
       "    }\n",
       "</style>\n",
       "<table border=\"1\" class=\"dataframe\">\n",
       "  <thead>\n",
       "    <tr style=\"text-align: right;\">\n",
       "      <th></th>\n",
       "      <th>order_id</th>\n",
       "      <th>quantity</th>\n",
       "      <th>item_name</th>\n",
       "      <th>choice_description</th>\n",
       "      <th>item_price</th>\n",
       "    </tr>\n",
       "  </thead>\n",
       "  <tbody>\n",
       "    <tr>\n",
       "      <th>445</th>\n",
       "      <td>193</td>\n",
       "      <td>3</td>\n",
       "      <td>Bowl</td>\n",
       "      <td>[Braised Carnitas, Pinto Beans, [Sour Cream, C...</td>\n",
       "      <td>$22.20</td>\n",
       "    </tr>\n",
       "    <tr>\n",
       "      <th>673</th>\n",
       "      <td>279</td>\n",
       "      <td>1</td>\n",
       "      <td>Bowl</td>\n",
       "      <td>[Adobo-Marinated and Grilled Steak, [Sour Crea...</td>\n",
       "      <td>$7.40</td>\n",
       "    </tr>\n",
       "  </tbody>\n",
       "</table>\n",
       "</div>"
      ],
      "text/plain": [
       "     order_id  quantity item_name  \\\n",
       "445       193         3      Bowl   \n",
       "673       279         1      Bowl   \n",
       "\n",
       "                                    choice_description item_price  \n",
       "445  [Braised Carnitas, Pinto Beans, [Sour Cream, C...    $22.20   \n",
       "673  [Adobo-Marinated and Grilled Steak, [Sour Crea...     $7.40   "
      ]
     },
     "execution_count": 84,
     "metadata": {},
     "output_type": "execute_result"
    }
   ],
   "source": [
    "chipotle.quantity > 1 # zwraca tablicę logiczną\n",
    "chipotle[chipotle.quantity > 1] # zwraca rekordy spełniające warunek\n",
    "\n",
    "# logiczny AND - &, logiczny OR - |, logiczny NOT - ~\n",
    "chipotle[(chipotle.quantity > 1) & (chipotle.item_name == \"Chicken Bowl\")]\n",
    "\n",
    "chipotle[(chipotle.quantity > 1) | (chipotle.item_name == \"Chicken Bowl\")]\n",
    "\n",
    "chipotle[chipotle.item_name.isin([\"Canned Soda\", \"Steak Burrito\"])] # jest jednym z\n",
    "\n",
    "chipotle[chipotle.item_name.str.contains(\"Bowl\")]\n",
    "chipotle[chipotle.item_name.str.contains(\"bowl\", case=False)]\n",
    "chipotle[chipotle.item_name.str.lower().str.contains(\"bowl\")]\n",
    "\n",
    "chipotle[chipotle.item_name.str.startswith(\"Bowl\")] # podobnie endswith\n"
   ]
  },
  {
   "cell_type": "markdown",
   "id": "bb5ce60d-c16c-4522-abb8-013c470ae58a",
   "metadata": {},
   "source": [
    "## Modyfikacja danych"
   ]
  },
  {
   "cell_type": "code",
   "execution_count": 87,
   "id": "59178e1b-f81a-4587-903a-f584b614330c",
   "metadata": {
    "tags": []
   },
   "outputs": [],
   "source": [
    "chipotle.loc[5, \"quantity\"] = 3"
   ]
  },
  {
   "cell_type": "code",
   "execution_count": 88,
   "id": "d2010374-53d6-4079-8aca-3e22e5ee7c65",
   "metadata": {
    "tags": []
   },
   "outputs": [
    {
     "data": {
      "text/plain": [
       "3"
      ]
     },
     "execution_count": 88,
     "metadata": {},
     "output_type": "execute_result"
    }
   ],
   "source": [
    "chipotle.loc[5, \"quantity\"]"
   ]
  },
  {
   "cell_type": "code",
   "execution_count": 91,
   "id": "453ae1dc-6933-40da-b4a5-95a6ad75a594",
   "metadata": {
    "tags": []
   },
   "outputs": [
    {
     "data": {
      "text/plain": [
       "5"
      ]
     },
     "execution_count": 91,
     "metadata": {},
     "output_type": "execute_result"
    }
   ],
   "source": [
    "# kopiowanie danych\n",
    "#chipotle_2 = chipotle # płytka kopia TAK NIE ROBIMY\n",
    "#chipotle.iloc[1,1]\n",
    "#chipotle_2.iloc[1,1] = 5\n",
    "#chipotle.iloc[1,1]\n",
    "\n",
    "chipotle_2 = chipotle.copy() # głeboka kopia\n",
    "chipotle.iloc[1,1]\n",
    "chipotle_2.iloc[1,1] = 7\n",
    "chipotle.iloc[1,1]"
   ]
  },
  {
   "cell_type": "code",
   "execution_count": 92,
   "id": "2333c340-775f-471b-9d61-e4d7e16f9dde",
   "metadata": {
    "tags": []
   },
   "outputs": [
    {
     "data": {
      "text/plain": [
       "0        1\n",
       "1       49\n",
       "2        1\n",
       "3        1\n",
       "4        4\n",
       "        ..\n",
       "4617     1\n",
       "4618     1\n",
       "4619     1\n",
       "4620     1\n",
       "4621     1\n",
       "Name: quantity, Length: 4622, dtype: int64"
      ]
     },
     "execution_count": 92,
     "metadata": {},
     "output_type": "execute_result"
    }
   ],
   "source": [
    "chipotle_2.quantity ** 2"
   ]
  },
  {
   "cell_type": "code",
   "execution_count": 93,
   "id": "c6168bfc-d0ca-41f4-b63f-5bad4d83e349",
   "metadata": {
    "tags": []
   },
   "outputs": [],
   "source": [
    "# tworzenie nowej kolumny\n",
    "chipotle[\"new\"] = 3"
   ]
  },
  {
   "cell_type": "code",
   "execution_count": 95,
   "id": "87d76b66-13c1-4166-8e78-e492f6cf143c",
   "metadata": {
    "tags": []
   },
   "outputs": [],
   "source": [
    "chipotle[\"new_2\"] = pd.Series(np.random.randint(50,100,4500))"
   ]
  },
  {
   "cell_type": "code",
   "execution_count": null,
   "id": "fcc2c79c-09b3-4b91-911d-d61f0bd31cfc",
   "metadata": {
    "tags": []
   },
   "outputs": [],
   "source": [
    "chipotle.loc[4490:4510,:]"
   ]
  },
  {
   "cell_type": "code",
   "execution_count": 99,
   "id": "14a4f735-21e3-41d4-810c-75c845346010",
   "metadata": {
    "tags": []
   },
   "outputs": [],
   "source": [
    "chipotle[\"new_3\"] = pd.Series(np.random.randint(50,100,4700))"
   ]
  },
  {
   "cell_type": "code",
   "execution_count": 100,
   "id": "267ae66c-37e4-4e6f-850d-933956d0cadd",
   "metadata": {
    "tags": []
   },
   "outputs": [
    {
     "data": {
      "text/html": [
       "<div>\n",
       "<style scoped>\n",
       "    .dataframe tbody tr th:only-of-type {\n",
       "        vertical-align: middle;\n",
       "    }\n",
       "\n",
       "    .dataframe tbody tr th {\n",
       "        vertical-align: top;\n",
       "    }\n",
       "\n",
       "    .dataframe thead th {\n",
       "        text-align: right;\n",
       "    }\n",
       "</style>\n",
       "<table border=\"1\" class=\"dataframe\">\n",
       "  <thead>\n",
       "    <tr style=\"text-align: right;\">\n",
       "      <th></th>\n",
       "      <th>order_id</th>\n",
       "      <th>quantity</th>\n",
       "      <th>item_name</th>\n",
       "      <th>choice_description</th>\n",
       "      <th>item_price</th>\n",
       "      <th>new</th>\n",
       "      <th>new_2</th>\n",
       "      <th>new_3</th>\n",
       "    </tr>\n",
       "  </thead>\n",
       "  <tbody>\n",
       "    <tr>\n",
       "      <th>0</th>\n",
       "      <td>1</td>\n",
       "      <td>1</td>\n",
       "      <td>Chips and Fresh Tomato Salsa</td>\n",
       "      <td>NaN</td>\n",
       "      <td>$2.39</td>\n",
       "      <td>3</td>\n",
       "      <td>83.0</td>\n",
       "      <td>81</td>\n",
       "    </tr>\n",
       "    <tr>\n",
       "      <th>1</th>\n",
       "      <td>1</td>\n",
       "      <td>5</td>\n",
       "      <td>Izze</td>\n",
       "      <td>[Clementine]</td>\n",
       "      <td>$3.39</td>\n",
       "      <td>3</td>\n",
       "      <td>76.0</td>\n",
       "      <td>56</td>\n",
       "    </tr>\n",
       "    <tr>\n",
       "      <th>2</th>\n",
       "      <td>1</td>\n",
       "      <td>1</td>\n",
       "      <td>Nantucket Nectar</td>\n",
       "      <td>[Apple]</td>\n",
       "      <td>$3.39</td>\n",
       "      <td>3</td>\n",
       "      <td>77.0</td>\n",
       "      <td>52</td>\n",
       "    </tr>\n",
       "    <tr>\n",
       "      <th>3</th>\n",
       "      <td>1</td>\n",
       "      <td>1</td>\n",
       "      <td>Chips and Tomatillo-Green Chili Salsa</td>\n",
       "      <td>NaN</td>\n",
       "      <td>$2.39</td>\n",
       "      <td>3</td>\n",
       "      <td>87.0</td>\n",
       "      <td>85</td>\n",
       "    </tr>\n",
       "    <tr>\n",
       "      <th>4</th>\n",
       "      <td>2</td>\n",
       "      <td>2</td>\n",
       "      <td>Chicken Bowl</td>\n",
       "      <td>[Tomatillo-Red Chili Salsa (Hot), [Black Beans...</td>\n",
       "      <td>$16.98</td>\n",
       "      <td>3</td>\n",
       "      <td>91.0</td>\n",
       "      <td>69</td>\n",
       "    </tr>\n",
       "    <tr>\n",
       "      <th>...</th>\n",
       "      <td>...</td>\n",
       "      <td>...</td>\n",
       "      <td>...</td>\n",
       "      <td>...</td>\n",
       "      <td>...</td>\n",
       "      <td>...</td>\n",
       "      <td>...</td>\n",
       "      <td>...</td>\n",
       "    </tr>\n",
       "    <tr>\n",
       "      <th>4617</th>\n",
       "      <td>1833</td>\n",
       "      <td>1</td>\n",
       "      <td>Steak Burrito</td>\n",
       "      <td>[Fresh Tomato Salsa, [Rice, Black Beans, Sour ...</td>\n",
       "      <td>$11.75</td>\n",
       "      <td>3</td>\n",
       "      <td>NaN</td>\n",
       "      <td>85</td>\n",
       "    </tr>\n",
       "    <tr>\n",
       "      <th>4618</th>\n",
       "      <td>1833</td>\n",
       "      <td>1</td>\n",
       "      <td>Steak Burrito</td>\n",
       "      <td>[Fresh Tomato Salsa, [Rice, Sour Cream, Cheese...</td>\n",
       "      <td>$11.75</td>\n",
       "      <td>3</td>\n",
       "      <td>NaN</td>\n",
       "      <td>58</td>\n",
       "    </tr>\n",
       "    <tr>\n",
       "      <th>4619</th>\n",
       "      <td>1834</td>\n",
       "      <td>1</td>\n",
       "      <td>Chicken Salad Bowl</td>\n",
       "      <td>[Fresh Tomato Salsa, [Fajita Vegetables, Pinto...</td>\n",
       "      <td>$11.25</td>\n",
       "      <td>3</td>\n",
       "      <td>NaN</td>\n",
       "      <td>66</td>\n",
       "    </tr>\n",
       "    <tr>\n",
       "      <th>4620</th>\n",
       "      <td>1834</td>\n",
       "      <td>1</td>\n",
       "      <td>Chicken Salad Bowl</td>\n",
       "      <td>[Fresh Tomato Salsa, [Fajita Vegetables, Lettu...</td>\n",
       "      <td>$8.75</td>\n",
       "      <td>3</td>\n",
       "      <td>NaN</td>\n",
       "      <td>77</td>\n",
       "    </tr>\n",
       "    <tr>\n",
       "      <th>4621</th>\n",
       "      <td>1834</td>\n",
       "      <td>1</td>\n",
       "      <td>Chicken Salad Bowl</td>\n",
       "      <td>[Fresh Tomato Salsa, [Fajita Vegetables, Pinto...</td>\n",
       "      <td>$8.75</td>\n",
       "      <td>3</td>\n",
       "      <td>NaN</td>\n",
       "      <td>77</td>\n",
       "    </tr>\n",
       "  </tbody>\n",
       "</table>\n",
       "<p>4622 rows × 8 columns</p>\n",
       "</div>"
      ],
      "text/plain": [
       "      order_id  quantity                              item_name  \\\n",
       "0            1         1           Chips and Fresh Tomato Salsa   \n",
       "1            1         5                                   Izze   \n",
       "2            1         1                       Nantucket Nectar   \n",
       "3            1         1  Chips and Tomatillo-Green Chili Salsa   \n",
       "4            2         2                           Chicken Bowl   \n",
       "...        ...       ...                                    ...   \n",
       "4617      1833         1                          Steak Burrito   \n",
       "4618      1833         1                          Steak Burrito   \n",
       "4619      1834         1                     Chicken Salad Bowl   \n",
       "4620      1834         1                     Chicken Salad Bowl   \n",
       "4621      1834         1                     Chicken Salad Bowl   \n",
       "\n",
       "                                     choice_description item_price  new  \\\n",
       "0                                                   NaN     $2.39     3   \n",
       "1                                          [Clementine]     $3.39     3   \n",
       "2                                               [Apple]     $3.39     3   \n",
       "3                                                   NaN     $2.39     3   \n",
       "4     [Tomatillo-Red Chili Salsa (Hot), [Black Beans...    $16.98     3   \n",
       "...                                                 ...        ...  ...   \n",
       "4617  [Fresh Tomato Salsa, [Rice, Black Beans, Sour ...    $11.75     3   \n",
       "4618  [Fresh Tomato Salsa, [Rice, Sour Cream, Cheese...    $11.75     3   \n",
       "4619  [Fresh Tomato Salsa, [Fajita Vegetables, Pinto...    $11.25     3   \n",
       "4620  [Fresh Tomato Salsa, [Fajita Vegetables, Lettu...     $8.75     3   \n",
       "4621  [Fresh Tomato Salsa, [Fajita Vegetables, Pinto...     $8.75     3   \n",
       "\n",
       "      new_2  new_3  \n",
       "0      83.0     81  \n",
       "1      76.0     56  \n",
       "2      77.0     52  \n",
       "3      87.0     85  \n",
       "4      91.0     69  \n",
       "...     ...    ...  \n",
       "4617    NaN     85  \n",
       "4618    NaN     58  \n",
       "4619    NaN     66  \n",
       "4620    NaN     77  \n",
       "4621    NaN     77  \n",
       "\n",
       "[4622 rows x 8 columns]"
      ]
     },
     "execution_count": 100,
     "metadata": {},
     "output_type": "execute_result"
    }
   ],
   "source": [
    "chipotle"
   ]
  },
  {
   "cell_type": "code",
   "execution_count": 102,
   "id": "002e2ce0-a092-44ef-b24e-335e19f445ac",
   "metadata": {
    "tags": []
   },
   "outputs": [],
   "source": [
    "# zapisywanie do pliku\n",
    "chipotle.to_csv(\"processed.csv\")"
   ]
  },
  {
   "cell_type": "code",
   "execution_count": null,
   "id": "b0b971e4-4701-4699-9b9f-59564834d682",
   "metadata": {},
   "outputs": [],
   "source": [
    "%config IPCompleter.use_jedi = False\n",
    "%config Completer.evaluation = 'limited'"
   ]
  },
  {
   "cell_type": "markdown",
   "id": "805e12d7-3b11-4663-b444-0409a11d9796",
   "metadata": {},
   "source": [
    "## Agregacje"
   ]
  },
  {
   "cell_type": "code",
   "execution_count": 108,
   "id": "bd4fab68-4e7b-4491-abd2-03eccff8dd29",
   "metadata": {
    "tags": []
   },
   "outputs": [
    {
     "data": {
      "text/html": [
       "<div>\n",
       "<style scoped>\n",
       "    .dataframe tbody tr th:only-of-type {\n",
       "        vertical-align: middle;\n",
       "    }\n",
       "\n",
       "    .dataframe tbody tr th {\n",
       "        vertical-align: top;\n",
       "    }\n",
       "\n",
       "    .dataframe thead th {\n",
       "        text-align: right;\n",
       "    }\n",
       "</style>\n",
       "<table border=\"1\" class=\"dataframe\">\n",
       "  <thead>\n",
       "    <tr style=\"text-align: right;\">\n",
       "      <th></th>\n",
       "      <th>cylinders</th>\n",
       "      <th>displacement</th>\n",
       "      <th>horsepower</th>\n",
       "      <th>weight</th>\n",
       "      <th>acceleration</th>\n",
       "      <th>modelyear</th>\n",
       "      <th>origin</th>\n",
       "      <th>mpg</th>\n",
       "    </tr>\n",
       "  </thead>\n",
       "  <tbody>\n",
       "    <tr>\n",
       "      <th>0</th>\n",
       "      <td>8</td>\n",
       "      <td>307.0</td>\n",
       "      <td>130.0</td>\n",
       "      <td>3504.0</td>\n",
       "      <td>12.0</td>\n",
       "      <td>70</td>\n",
       "      <td>1</td>\n",
       "      <td>18.0</td>\n",
       "    </tr>\n",
       "    <tr>\n",
       "      <th>1</th>\n",
       "      <td>8</td>\n",
       "      <td>350.0</td>\n",
       "      <td>165.0</td>\n",
       "      <td>3693.0</td>\n",
       "      <td>11.5</td>\n",
       "      <td>70</td>\n",
       "      <td>1</td>\n",
       "      <td>15.0</td>\n",
       "    </tr>\n",
       "    <tr>\n",
       "      <th>2</th>\n",
       "      <td>8</td>\n",
       "      <td>318.0</td>\n",
       "      <td>150.0</td>\n",
       "      <td>3436.0</td>\n",
       "      <td>11.0</td>\n",
       "      <td>70</td>\n",
       "      <td>1</td>\n",
       "      <td>18.0</td>\n",
       "    </tr>\n",
       "    <tr>\n",
       "      <th>3</th>\n",
       "      <td>8</td>\n",
       "      <td>304.0</td>\n",
       "      <td>150.0</td>\n",
       "      <td>3433.0</td>\n",
       "      <td>12.0</td>\n",
       "      <td>70</td>\n",
       "      <td>1</td>\n",
       "      <td>16.0</td>\n",
       "    </tr>\n",
       "    <tr>\n",
       "      <th>4</th>\n",
       "      <td>8</td>\n",
       "      <td>302.0</td>\n",
       "      <td>140.0</td>\n",
       "      <td>3449.0</td>\n",
       "      <td>10.5</td>\n",
       "      <td>70</td>\n",
       "      <td>1</td>\n",
       "      <td>17.0</td>\n",
       "    </tr>\n",
       "  </tbody>\n",
       "</table>\n",
       "</div>"
      ],
      "text/plain": [
       "   cylinders  displacement  horsepower  weight  acceleration  modelyear  \\\n",
       "0          8         307.0       130.0  3504.0          12.0         70   \n",
       "1          8         350.0       165.0  3693.0          11.5         70   \n",
       "2          8         318.0       150.0  3436.0          11.0         70   \n",
       "3          8         304.0       150.0  3433.0          12.0         70   \n",
       "4          8         302.0       140.0  3449.0          10.5         70   \n",
       "\n",
       "   origin   mpg  \n",
       "0       1  18.0  \n",
       "1       1  15.0  \n",
       "2       1  18.0  \n",
       "3       1  16.0  \n",
       "4       1  17.0  "
      ]
     },
     "metadata": {},
     "output_type": "display_data"
    },
    {
     "name": "stdout",
     "output_type": "stream",
     "text": [
      "<class 'pandas.core.frame.DataFrame'>\n",
      "RangeIndex: 398 entries, 0 to 397\n",
      "Data columns (total 8 columns):\n",
      " #   Column        Non-Null Count  Dtype  \n",
      "---  ------        --------------  -----  \n",
      " 0   cylinders     398 non-null    int64  \n",
      " 1   displacement  398 non-null    float64\n",
      " 2   horsepower    392 non-null    float64\n",
      " 3   weight        398 non-null    float64\n",
      " 4   acceleration  398 non-null    float64\n",
      " 5   modelyear     398 non-null    int64  \n",
      " 6   origin        398 non-null    int64  \n",
      " 7   mpg           398 non-null    float64\n",
      "dtypes: float64(5), int64(3)\n",
      "memory usage: 25.0 KB\n"
     ]
    }
   ],
   "source": [
    "cars = pd.read_csv(\"ML-datasets-master/auto_mpg.csv\", na_values=[\"?\", \"null\"])\n",
    "display(cars.head())\n",
    "cars.info()"
   ]
  },
  {
   "cell_type": "code",
   "execution_count": 104,
   "id": "6ecff929-fa62-4cd1-afa2-41cc0fa11051",
   "metadata": {
    "tags": []
   },
   "outputs": [
    {
     "data": {
      "text/plain": [
       "array(['130.0', '165.0', '150.0', '140.0', '198.0', '220.0', '215.0',\n",
       "       '225.0', '190.0', '170.0', '160.0', '95.00', '97.00', '85.00',\n",
       "       '88.00', '46.00', '87.00', '90.00', '113.0', '200.0', '210.0',\n",
       "       '193.0', '?', '100.0', '105.0', '175.0', '153.0', '180.0', '110.0',\n",
       "       '72.00', '86.00', '70.00', '76.00', '65.00', '69.00', '60.00',\n",
       "       '80.00', '54.00', '208.0', '155.0', '112.0', '92.00', '145.0',\n",
       "       '137.0', '158.0', '167.0', '94.00', '107.0', '230.0', '49.00',\n",
       "       '75.00', '91.00', '122.0', '67.00', '83.00', '78.00', '52.00',\n",
       "       '61.00', '93.00', '148.0', '129.0', '96.00', '71.00', '98.00',\n",
       "       '115.0', '53.00', '81.00', '79.00', '120.0', '152.0', '102.0',\n",
       "       '108.0', '68.00', '58.00', '149.0', '89.00', '63.00', '48.00',\n",
       "       '66.00', '139.0', '103.0', '125.0', '133.0', '138.0', '135.0',\n",
       "       '142.0', '77.00', '62.00', '132.0', '84.00', '64.00', '74.00',\n",
       "       '116.0', '82.00'], dtype=object)"
      ]
     },
     "execution_count": 104,
     "metadata": {},
     "output_type": "execute_result"
    }
   ],
   "source": [
    "cars.horsepower.unique() # zwraca unikalne wartości"
   ]
  },
  {
   "cell_type": "code",
   "execution_count": 109,
   "id": "368d1f0c-973f-4ef5-9792-1978ed5a6cf8",
   "metadata": {
    "tags": []
   },
   "outputs": [],
   "source": [
    "for number in cars.horsepower.unique():\n",
    "    try:\n",
    "        float(number)\n",
    "    except ValueError as e:\n",
    "        print(e)"
   ]
  },
  {
   "cell_type": "code",
   "execution_count": 123,
   "id": "e3295a7a-4f0e-4d87-a7ff-e22f0b5b3352",
   "metadata": {
    "tags": []
   },
   "outputs": [
    {
     "data": {
      "text/plain": [
       "19"
      ]
     },
     "execution_count": 123,
     "metadata": {},
     "output_type": "execute_result"
    }
   ],
   "source": [
    "cars.count() # dla całego zbioru\n",
    "cars.horsepower.count() # dla kolumny\n",
    "\n",
    "cars.horsepower.unique() \n",
    "len(cars.horsepower.unique())\n",
    "\n",
    "cars.horsepower.value_counts() # zliczanie wartości unikalnych wystąpień\n",
    "\n",
    "cars.horsepower.sum()\n",
    "cars.horsepower.mean()\n",
    "cars.horsepower.median()\n",
    "cars.horsepower.min()\n",
    "cars.horsepower.max()\n",
    "cars.horsepower.std()\n",
    "\n",
    "cars.horsepower.quantile(0.25)\n",
    "\n",
    "cars.horsepower.idxmax()\n",
    "cars.horsepower.idxmin()"
   ]
  },
  {
   "cell_type": "code",
   "execution_count": null,
   "id": "ea40050c-fbd0-4014-b115-93318ffe72f4",
   "metadata": {
    "tags": []
   },
   "outputs": [],
   "source": [
    "cars.describe()"
   ]
  },
  {
   "cell_type": "code",
   "execution_count": null,
   "id": "a8e51680-36c8-4f57-8536-d2920c48b9bf",
   "metadata": {
    "tags": []
   },
   "outputs": [],
   "source": [
    "chipotle.describe(include=\"all\") # domyślnie tylko kolumny numeryczne"
   ]
  },
  {
   "cell_type": "code",
   "execution_count": 129,
   "id": "168d222f-7a18-4535-b1f3-ebb073485545",
   "metadata": {
    "tags": []
   },
   "outputs": [],
   "source": [
    "stats = chipotle.describe(include=\"all\").loc[[\"top\", \"freq\"], [\"item_name\", \"item_price\", \"quantity\"]]"
   ]
  },
  {
   "cell_type": "code",
   "execution_count": 130,
   "id": "753e58ec-4488-41d3-96d8-19876d3001d7",
   "metadata": {
    "tags": []
   },
   "outputs": [],
   "source": [
    "stats.to_csv(\"stats.csv\")"
   ]
  },
  {
   "cell_type": "code",
   "execution_count": 133,
   "id": "c4044cc9-5ec9-4791-8c35-8620ab2cc340",
   "metadata": {
    "tags": []
   },
   "outputs": [],
   "source": [
    "cars[\"real_power\"] = cars.horsepower / cars.weight * 100"
   ]
  },
  {
   "cell_type": "code",
   "execution_count": null,
   "id": "9a5c81df-e92a-4a18-bbab-63caa72e0f51",
   "metadata": {
    "tags": []
   },
   "outputs": [],
   "source": [
    "cars"
   ]
  },
  {
   "cell_type": "code",
   "execution_count": 135,
   "id": "5f80b4bd-79bd-4614-a15e-38109f678292",
   "metadata": {
    "tags": []
   },
   "outputs": [
    {
     "data": {
      "text/html": [
       "<div>\n",
       "<style scoped>\n",
       "    .dataframe tbody tr th:only-of-type {\n",
       "        vertical-align: middle;\n",
       "    }\n",
       "\n",
       "    .dataframe tbody tr th {\n",
       "        vertical-align: top;\n",
       "    }\n",
       "\n",
       "    .dataframe thead th {\n",
       "        text-align: right;\n",
       "    }\n",
       "</style>\n",
       "<table border=\"1\" class=\"dataframe\">\n",
       "  <thead>\n",
       "    <tr style=\"text-align: right;\">\n",
       "      <th></th>\n",
       "      <th>name</th>\n",
       "      <th>score</th>\n",
       "    </tr>\n",
       "  </thead>\n",
       "  <tbody>\n",
       "    <tr>\n",
       "      <th>0</th>\n",
       "      <td>Jan</td>\n",
       "      <td>30</td>\n",
       "    </tr>\n",
       "    <tr>\n",
       "      <th>1</th>\n",
       "      <td>Arek</td>\n",
       "      <td>12</td>\n",
       "    </tr>\n",
       "  </tbody>\n",
       "</table>\n",
       "</div>"
      ],
      "text/plain": [
       "   name  score\n",
       "0   Jan     30\n",
       "1  Arek     12"
      ]
     },
     "execution_count": 135,
     "metadata": {},
     "output_type": "execute_result"
    }
   ],
   "source": [
    "pd.DataFrame({\"name\": [\"Jan\", \"Arek\"], \"score\": [30, 12]})"
   ]
  },
  {
   "cell_type": "code",
   "execution_count": null,
   "id": "4688ad6f-373e-4b30-9ed1-66f358df1e94",
   "metadata": {},
   "outputs": [],
   "source": [
    "# Settings → Settings Editor → Notebook → Windowing mode → none"
   ]
  },
  {
   "cell_type": "code",
   "execution_count": 138,
   "id": "75f389f1-e85a-48a7-9245-7243e7b2d771",
   "metadata": {
    "tags": []
   },
   "outputs": [
    {
     "name": "stdout",
     "output_type": "stream",
     "text": [
      "16.4\n",
      "15.5\n"
     ]
    }
   ],
   "source": [
    "# zadanie 1\n",
    "students = pd.DataFrame({\"name\":[\"Ania\",\"Lena\",\"Leon\", \"Wiktor\",\"Gosia\", \"Marta\",\"Damian\", \"Mateusz\",\"Czarek\", \"Ola\"],\"score\":[30,28,29,15,16,22,7,5,1,11]})\n",
    "students\n",
    "print(students.score.mean())\n",
    "print(students.score.median())"
   ]
  },
  {
   "cell_type": "code",
   "execution_count": 141,
   "id": "3bb042c4-8e8b-4e27-80fd-60770262a1c4",
   "metadata": {
    "tags": []
   },
   "outputs": [
    {
     "data": {
      "text/plain": [
       "name     Gosia\n",
       "score       16\n",
       "Name: 4, dtype: object"
      ]
     },
     "execution_count": 141,
     "metadata": {},
     "output_type": "execute_result"
    }
   ],
   "source": [
    "# zadanie 2\n",
    "students.iloc[4]"
   ]
  },
  {
   "cell_type": "code",
   "execution_count": 142,
   "id": "338553a0-512b-42d9-8f9e-6808779287fe",
   "metadata": {
    "tags": []
   },
   "outputs": [
    {
     "data": {
      "text/html": [
       "<div>\n",
       "<style scoped>\n",
       "    .dataframe tbody tr th:only-of-type {\n",
       "        vertical-align: middle;\n",
       "    }\n",
       "\n",
       "    .dataframe tbody tr th {\n",
       "        vertical-align: top;\n",
       "    }\n",
       "\n",
       "    .dataframe thead th {\n",
       "        text-align: right;\n",
       "    }\n",
       "</style>\n",
       "<table border=\"1\" class=\"dataframe\">\n",
       "  <thead>\n",
       "    <tr style=\"text-align: right;\">\n",
       "      <th></th>\n",
       "      <th>name</th>\n",
       "      <th>score</th>\n",
       "    </tr>\n",
       "  </thead>\n",
       "  <tbody>\n",
       "    <tr>\n",
       "      <th>0</th>\n",
       "      <td>Ania</td>\n",
       "      <td>30</td>\n",
       "    </tr>\n",
       "    <tr>\n",
       "      <th>1</th>\n",
       "      <td>Lena</td>\n",
       "      <td>28</td>\n",
       "    </tr>\n",
       "    <tr>\n",
       "      <th>2</th>\n",
       "      <td>Leon</td>\n",
       "      <td>29</td>\n",
       "    </tr>\n",
       "    <tr>\n",
       "      <th>5</th>\n",
       "      <td>Marta</td>\n",
       "      <td>22</td>\n",
       "    </tr>\n",
       "  </tbody>\n",
       "</table>\n",
       "</div>"
      ],
      "text/plain": [
       "    name  score\n",
       "0   Ania     30\n",
       "1   Lena     28\n",
       "2   Leon     29\n",
       "5  Marta     22"
      ]
     },
     "execution_count": 142,
     "metadata": {},
     "output_type": "execute_result"
    }
   ],
   "source": [
    "best = students[students.score > students.score.mean()]\n",
    "best"
   ]
  },
  {
   "cell_type": "markdown",
   "id": "e0276454-9be8-4885-aa21-ad0cecc9024f",
   "metadata": {},
   "source": [
    "## Aplikacja funkcji do danych"
   ]
  },
  {
   "cell_type": "code",
   "execution_count": null,
   "id": "0d2b6b63-6b70-41e8-8c64-d81dc927405d",
   "metadata": {
    "tags": []
   },
   "outputs": [],
   "source": [
    "# def nazwa_funkcji(argumenty):\n",
    "#     ciało funkcji\n",
    "#.    return zwracane wartości\n",
    "\n",
    "def roznica(x):\n",
    "    return x.max() - x.min()\n",
    "\n",
    "# metoda apply\n",
    "cars.apply(roznica) # x - jedna kolumna / seria danych (dla wywołania dla dataframe)\n",
    "\n",
    "# cars.horsepower.apply(roznica) # x - pojedyncza wartosc/komórka danych (dla wywołania dla serii danych)\n",
    "\n",
    "cars.apply(roznica, axis=1) # x - jeden wiersz"
   ]
  },
  {
   "cell_type": "code",
   "execution_count": null,
   "id": "f388e973-85f4-4051-81d1-a1bc3499dcb0",
   "metadata": {
    "tags": []
   },
   "outputs": [],
   "source": [
    "def dolarizer(x):\n",
    "    return float(x.replace(\"$\", \"\"))\n",
    "\n",
    "chipotle[\"item_price_2\"] = chipotle.item_price.apply(dolarizer)\n",
    "chipotle.head()"
   ]
  },
  {
   "cell_type": "code",
   "execution_count": 160,
   "id": "789ec323-d573-45dc-834d-ec3ebbfe6b60",
   "metadata": {
    "tags": []
   },
   "outputs": [
    {
     "data": {
      "text/plain": [
       "39272.54"
      ]
     },
     "execution_count": 160,
     "metadata": {},
     "output_type": "execute_result"
    }
   ],
   "source": [
    "(chipotle[\"item_price_2\"] * chipotle[\"quantity\"]).sum() # utarg"
   ]
  },
  {
   "cell_type": "code",
   "execution_count": 162,
   "id": "520afa31-bd14-4ce0-9abb-54450df8fccf",
   "metadata": {
    "tags": []
   },
   "outputs": [],
   "source": [
    "# funkcja lambda\n",
    "# lambda argumenty: ciało funkcji (automatycznie zwracane)\n",
    "\n",
    "chipotle[\"item_price_3\"] = chipotle.item_price.apply(lambda x: float(x.replace(\"$\", \"\")))"
   ]
  },
  {
   "cell_type": "code",
   "execution_count": 163,
   "id": "ecc48b97-a554-4073-824e-8f19fb1c6700",
   "metadata": {
    "tags": []
   },
   "outputs": [
    {
     "data": {
      "text/html": [
       "<div>\n",
       "<style scoped>\n",
       "    .dataframe tbody tr th:only-of-type {\n",
       "        vertical-align: middle;\n",
       "    }\n",
       "\n",
       "    .dataframe tbody tr th {\n",
       "        vertical-align: top;\n",
       "    }\n",
       "\n",
       "    .dataframe thead th {\n",
       "        text-align: right;\n",
       "    }\n",
       "</style>\n",
       "<table border=\"1\" class=\"dataframe\">\n",
       "  <thead>\n",
       "    <tr style=\"text-align: right;\">\n",
       "      <th></th>\n",
       "      <th>order_id</th>\n",
       "      <th>quantity</th>\n",
       "      <th>item_name</th>\n",
       "      <th>choice_description</th>\n",
       "      <th>item_price</th>\n",
       "      <th>new</th>\n",
       "      <th>new_2</th>\n",
       "      <th>new_3</th>\n",
       "      <th>itme_price_2</th>\n",
       "      <th>item_price_2</th>\n",
       "      <th>item_price_3</th>\n",
       "    </tr>\n",
       "  </thead>\n",
       "  <tbody>\n",
       "    <tr>\n",
       "      <th>0</th>\n",
       "      <td>1</td>\n",
       "      <td>1</td>\n",
       "      <td>Chips and Fresh Tomato Salsa</td>\n",
       "      <td>NaN</td>\n",
       "      <td>$2.39</td>\n",
       "      <td>3</td>\n",
       "      <td>83.0</td>\n",
       "      <td>81</td>\n",
       "      <td>2.39</td>\n",
       "      <td>2.39</td>\n",
       "      <td>2.39</td>\n",
       "    </tr>\n",
       "    <tr>\n",
       "      <th>1</th>\n",
       "      <td>1</td>\n",
       "      <td>5</td>\n",
       "      <td>Izze</td>\n",
       "      <td>[Clementine]</td>\n",
       "      <td>$3.39</td>\n",
       "      <td>3</td>\n",
       "      <td>76.0</td>\n",
       "      <td>56</td>\n",
       "      <td>3.39</td>\n",
       "      <td>3.39</td>\n",
       "      <td>3.39</td>\n",
       "    </tr>\n",
       "    <tr>\n",
       "      <th>2</th>\n",
       "      <td>1</td>\n",
       "      <td>1</td>\n",
       "      <td>Nantucket Nectar</td>\n",
       "      <td>[Apple]</td>\n",
       "      <td>$3.39</td>\n",
       "      <td>3</td>\n",
       "      <td>77.0</td>\n",
       "      <td>52</td>\n",
       "      <td>3.39</td>\n",
       "      <td>3.39</td>\n",
       "      <td>3.39</td>\n",
       "    </tr>\n",
       "    <tr>\n",
       "      <th>3</th>\n",
       "      <td>1</td>\n",
       "      <td>1</td>\n",
       "      <td>Chips and Tomatillo-Green Chili Salsa</td>\n",
       "      <td>NaN</td>\n",
       "      <td>$2.39</td>\n",
       "      <td>3</td>\n",
       "      <td>87.0</td>\n",
       "      <td>85</td>\n",
       "      <td>2.39</td>\n",
       "      <td>2.39</td>\n",
       "      <td>2.39</td>\n",
       "    </tr>\n",
       "    <tr>\n",
       "      <th>4</th>\n",
       "      <td>2</td>\n",
       "      <td>2</td>\n",
       "      <td>Chicken Bowl</td>\n",
       "      <td>[Tomatillo-Red Chili Salsa (Hot), [Black Beans...</td>\n",
       "      <td>$16.98</td>\n",
       "      <td>3</td>\n",
       "      <td>91.0</td>\n",
       "      <td>69</td>\n",
       "      <td>16.98</td>\n",
       "      <td>16.98</td>\n",
       "      <td>16.98</td>\n",
       "    </tr>\n",
       "  </tbody>\n",
       "</table>\n",
       "</div>"
      ],
      "text/plain": [
       "   order_id  quantity                              item_name  \\\n",
       "0         1         1           Chips and Fresh Tomato Salsa   \n",
       "1         1         5                                   Izze   \n",
       "2         1         1                       Nantucket Nectar   \n",
       "3         1         1  Chips and Tomatillo-Green Chili Salsa   \n",
       "4         2         2                           Chicken Bowl   \n",
       "\n",
       "                                  choice_description item_price  new  new_2  \\\n",
       "0                                                NaN     $2.39     3   83.0   \n",
       "1                                       [Clementine]     $3.39     3   76.0   \n",
       "2                                            [Apple]     $3.39     3   77.0   \n",
       "3                                                NaN     $2.39     3   87.0   \n",
       "4  [Tomatillo-Red Chili Salsa (Hot), [Black Beans...    $16.98     3   91.0   \n",
       "\n",
       "   new_3  itme_price_2  item_price_2  item_price_3  \n",
       "0     81          2.39          2.39          2.39  \n",
       "1     56          3.39          3.39          3.39  \n",
       "2     52          3.39          3.39          3.39  \n",
       "3     85          2.39          2.39          2.39  \n",
       "4     69         16.98         16.98         16.98  "
      ]
     },
     "execution_count": 163,
     "metadata": {},
     "output_type": "execute_result"
    }
   ],
   "source": [
    "chipotle.head()"
   ]
  },
  {
   "cell_type": "code",
   "execution_count": 171,
   "id": "816982e0-c375-498a-9b12-0e890574aad6",
   "metadata": {
    "tags": []
   },
   "outputs": [],
   "source": [
    "# zadanie 3\n",
    "students[\"percentage\"] = students.score / 30 * 100\n",
    "\n",
    "def anonymizer(x):\n",
    "    return x[0] + \"...\" + x[-1]\n",
    "\n",
    "def anonymizer_2(x):\n",
    "    final_world = x[0]\n",
    "    for letter in x[1:-1]:\n",
    "        final_world += \".\"\n",
    "    final_world += x[-1]\n",
    "    return final_world\n",
    "\n",
    "students[\"anonymized\"] = students.name.apply(anonymizer)\n",
    "students[\"anonymized_2\"] = students.name.apply(anonymizer_2)"
   ]
  },
  {
   "cell_type": "code",
   "execution_count": null,
   "id": "48bd00a9-719e-43c9-922d-6f5f73e14c41",
   "metadata": {
    "tags": []
   },
   "outputs": [],
   "source": [
    "students"
   ]
  },
  {
   "cell_type": "markdown",
   "id": "48a45c5e-97e0-4656-a2ff-118240828ba7",
   "metadata": {},
   "source": [
    "## Grupowanie"
   ]
  },
  {
   "cell_type": "code",
   "execution_count": null,
   "id": "dda25fe7-f3cf-46a1-a533-45773bcf3214",
   "metadata": {
    "tags": []
   },
   "outputs": [],
   "source": [
    "cars.groupby(\"cylinders\").groups # wypisanie grup w formie słownika\n",
    "\n",
    "cars.groupby(\"cylinders\").get_group(3)\n",
    "\n",
    "cars.groupby(\"cylinders\").mean()\n",
    "cars.groupby(\"cylinders\").mean()[\"horsepower\"]\n",
    "cars.groupby(\"cylinders\").mean()[[\"horsepower\", \"acceleration\"]]\n",
    "\n",
    "cars.groupby(\"cylinders\").agg([\"max\", \"min\", roznica])[[\"horsepower\", \"acceleration\"]]\n",
    "\n",
    "cars.groupby(\"cylinders\").describe()[[\"horsepower\", \"acceleration\"]]\n",
    "\n",
    "cars.groupby([\"cylinders\", \"origin\"]).mean()[\"horsepower\"]\n",
    "cars.groupby([\"cylinders\", \"origin\"]).mean()[\"horsepower\"].reset_index()"
   ]
  },
  {
   "cell_type": "code",
   "execution_count": 187,
   "id": "d0fd12b9-a650-4f18-8263-dc62468cf384",
   "metadata": {
    "tags": []
   },
   "outputs": [
    {
     "data": {
      "text/html": [
       "<div>\n",
       "<style scoped>\n",
       "    .dataframe tbody tr th:only-of-type {\n",
       "        vertical-align: middle;\n",
       "    }\n",
       "\n",
       "    .dataframe tbody tr th {\n",
       "        vertical-align: top;\n",
       "    }\n",
       "\n",
       "    .dataframe thead tr th {\n",
       "        text-align: left;\n",
       "    }\n",
       "\n",
       "    .dataframe thead tr:last-of-type th {\n",
       "        text-align: right;\n",
       "    }\n",
       "</style>\n",
       "<table border=\"1\" class=\"dataframe\">\n",
       "  <thead>\n",
       "    <tr>\n",
       "      <th></th>\n",
       "      <th colspan=\"2\" halign=\"left\">horsepower</th>\n",
       "      <th colspan=\"2\" halign=\"left\">acceleration</th>\n",
       "    </tr>\n",
       "    <tr>\n",
       "      <th></th>\n",
       "      <th>max</th>\n",
       "      <th>mean</th>\n",
       "      <th>max</th>\n",
       "      <th>mean</th>\n",
       "    </tr>\n",
       "    <tr>\n",
       "      <th>cylinders</th>\n",
       "      <th></th>\n",
       "      <th></th>\n",
       "      <th></th>\n",
       "      <th></th>\n",
       "    </tr>\n",
       "  </thead>\n",
       "  <tbody>\n",
       "    <tr>\n",
       "      <th>3</th>\n",
       "      <td>110.0</td>\n",
       "      <td>99.250000</td>\n",
       "      <td>13.5</td>\n",
       "      <td>13.250000</td>\n",
       "    </tr>\n",
       "    <tr>\n",
       "      <th>4</th>\n",
       "      <td>115.0</td>\n",
       "      <td>78.281407</td>\n",
       "      <td>24.8</td>\n",
       "      <td>16.601471</td>\n",
       "    </tr>\n",
       "    <tr>\n",
       "      <th>5</th>\n",
       "      <td>103.0</td>\n",
       "      <td>82.333333</td>\n",
       "      <td>20.1</td>\n",
       "      <td>18.633333</td>\n",
       "    </tr>\n",
       "    <tr>\n",
       "      <th>6</th>\n",
       "      <td>165.0</td>\n",
       "      <td>101.506024</td>\n",
       "      <td>21.0</td>\n",
       "      <td>16.263095</td>\n",
       "    </tr>\n",
       "    <tr>\n",
       "      <th>8</th>\n",
       "      <td>230.0</td>\n",
       "      <td>158.300971</td>\n",
       "      <td>22.2</td>\n",
       "      <td>12.955340</td>\n",
       "    </tr>\n",
       "  </tbody>\n",
       "</table>\n",
       "</div>"
      ],
      "text/plain": [
       "          horsepower             acceleration           \n",
       "                 max        mean          max       mean\n",
       "cylinders                                               \n",
       "3              110.0   99.250000         13.5  13.250000\n",
       "4              115.0   78.281407         24.8  16.601471\n",
       "5              103.0   82.333333         20.1  18.633333\n",
       "6              165.0  101.506024         21.0  16.263095\n",
       "8              230.0  158.300971         22.2  12.955340"
      ]
     },
     "execution_count": 187,
     "metadata": {},
     "output_type": "execute_result"
    }
   ],
   "source": [
    "cars.groupby(\"cylinders\").agg([\"max\", \"mean\"])[[\"horsepower\", \"acceleration\"]]"
   ]
  },
  {
   "cell_type": "markdown",
   "id": "87f5bf1a-d83e-416e-a6ee-2d7b91e819b7",
   "metadata": {},
   "source": [
    "## Operacje na danych"
   ]
  },
  {
   "cell_type": "code",
   "execution_count": null,
   "id": "c5a610db-9c93-414d-8e55-456fb930e21e",
   "metadata": {
    "tags": []
   },
   "outputs": [],
   "source": [
    "# usuwaniu danych\n",
    "# chipotle = chipotle.drop([\"new\", \"new_2\", \"new_3\", \"itme_price_2\"], axis=1)\n",
    "\n",
    "chipotle.drop([\"new\", \"new_2\", \"new_3\", \"itme_price_2\"], axis=1, inplace=True) # usuwanie kolumn"
   ]
  },
  {
   "cell_type": "code",
   "execution_count": 192,
   "id": "f3ada47b-074f-49e6-8358-41d4d2884f97",
   "metadata": {
    "tags": []
   },
   "outputs": [],
   "source": [
    "cars.drop([2,3], inplace=True) # usuwanie wierwszy"
   ]
  },
  {
   "cell_type": "code",
   "execution_count": 196,
   "id": "37f56b17-e4c6-406e-be70-5efeb2c86b50",
   "metadata": {
    "tags": []
   },
   "outputs": [],
   "source": [
    "cars.reset_index(drop=True, inplace=True)"
   ]
  },
  {
   "cell_type": "code",
   "execution_count": null,
   "id": "581be96a-6882-46b0-be9f-3948d8c39b80",
   "metadata": {
    "tags": []
   },
   "outputs": [],
   "source": [
    "# normalizacja\n",
    "cars[\"horsepower_n\"] = (cars[\"horsepower\"] - cars[\"horsepower\"].min()) / (cars[\"horsepower\"].max() - cars[\"horsepower\"].min())\n",
    "# standaryzacja\n",
    "cars[\"horsepower_s\"] = (cars[\"horsepower\"] - cars[\"horsepower\"].mean()) / (cars[\"horsepower\"].std())\n",
    "cars"
   ]
  },
  {
   "cell_type": "code",
   "execution_count": 201,
   "id": "983ae2f2-2986-438a-90d7-14ea7f3bc80b",
   "metadata": {
    "tags": []
   },
   "outputs": [
    {
     "data": {
      "text/plain": [
       "-0.69"
      ]
     },
     "execution_count": 201,
     "metadata": {},
     "output_type": "execute_result"
    }
   ],
   "source": [
    "# korelacja\n",
    "cars.corr()\n",
    "round(cars.horsepower.corr(cars.acceleration), 2)"
   ]
  },
  {
   "cell_type": "code",
   "execution_count": null,
   "id": "36b86dab-c660-4740-8926-f71177eb2a52",
   "metadata": {
    "tags": []
   },
   "outputs": [],
   "source": [
    "# dyskretyzacja\n",
    "def split_power(x):\n",
    "    if x < 100:\n",
    "        return \"Weak\"\n",
    "    elif x < 200:\n",
    "        return \"Average\"\n",
    "    else:\n",
    "        return \"Power!\"\n",
    "    \n",
    "cars[\"horsepower_d\"] = cars.horsepower.apply(split_power)\n",
    "cars"
   ]
  },
  {
   "cell_type": "code",
   "execution_count": null,
   "id": "467ecb2d-3234-40ba-a8bb-cb89f4c1eaea",
   "metadata": {
    "tags": []
   },
   "outputs": [],
   "source": [
    "# one hot encoding\n",
    "pd.get_dummies(cars, columns=[\"horsepower_d\"])"
   ]
  },
  {
   "cell_type": "markdown",
   "id": "ee0d90d7-97ae-42a8-ad93-e6d248e46f6c",
   "metadata": {},
   "source": [
    "## Łączenie danych"
   ]
  },
  {
   "cell_type": "code",
   "execution_count": 238,
   "id": "574de1a9-5435-48df-bee5-99edf844c764",
   "metadata": {
    "tags": []
   },
   "outputs": [
    {
     "data": {
      "text/html": [
       "<div>\n",
       "<style scoped>\n",
       "    .dataframe tbody tr th:only-of-type {\n",
       "        vertical-align: middle;\n",
       "    }\n",
       "\n",
       "    .dataframe tbody tr th {\n",
       "        vertical-align: top;\n",
       "    }\n",
       "\n",
       "    .dataframe thead th {\n",
       "        text-align: right;\n",
       "    }\n",
       "</style>\n",
       "<table border=\"1\" class=\"dataframe\">\n",
       "  <thead>\n",
       "    <tr style=\"text-align: right;\">\n",
       "      <th></th>\n",
       "      <th>animal</th>\n",
       "      <th>uniq_id</th>\n",
       "      <th>water_need</th>\n",
       "    </tr>\n",
       "  </thead>\n",
       "  <tbody>\n",
       "    <tr>\n",
       "      <th>0</th>\n",
       "      <td>elephant</td>\n",
       "      <td>1001</td>\n",
       "      <td>500</td>\n",
       "    </tr>\n",
       "    <tr>\n",
       "      <th>1</th>\n",
       "      <td>elephant</td>\n",
       "      <td>1002</td>\n",
       "      <td>600</td>\n",
       "    </tr>\n",
       "    <tr>\n",
       "      <th>2</th>\n",
       "      <td>elephant</td>\n",
       "      <td>1003</td>\n",
       "      <td>550</td>\n",
       "    </tr>\n",
       "    <tr>\n",
       "      <th>3</th>\n",
       "      <td>tiger</td>\n",
       "      <td>1004</td>\n",
       "      <td>300</td>\n",
       "    </tr>\n",
       "    <tr>\n",
       "      <th>4</th>\n",
       "      <td>tiger</td>\n",
       "      <td>1005</td>\n",
       "      <td>320</td>\n",
       "    </tr>\n",
       "    <tr>\n",
       "      <th>5</th>\n",
       "      <td>tiger</td>\n",
       "      <td>1006</td>\n",
       "      <td>330</td>\n",
       "    </tr>\n",
       "    <tr>\n",
       "      <th>6</th>\n",
       "      <td>tiger</td>\n",
       "      <td>1007</td>\n",
       "      <td>290</td>\n",
       "    </tr>\n",
       "    <tr>\n",
       "      <th>7</th>\n",
       "      <td>tiger</td>\n",
       "      <td>1008</td>\n",
       "      <td>310</td>\n",
       "    </tr>\n",
       "    <tr>\n",
       "      <th>8</th>\n",
       "      <td>zebra</td>\n",
       "      <td>1009</td>\n",
       "      <td>200</td>\n",
       "    </tr>\n",
       "    <tr>\n",
       "      <th>9</th>\n",
       "      <td>zebra</td>\n",
       "      <td>1010</td>\n",
       "      <td>220</td>\n",
       "    </tr>\n",
       "    <tr>\n",
       "      <th>10</th>\n",
       "      <td>zebra</td>\n",
       "      <td>1011</td>\n",
       "      <td>240</td>\n",
       "    </tr>\n",
       "    <tr>\n",
       "      <th>11</th>\n",
       "      <td>zebra</td>\n",
       "      <td>1012</td>\n",
       "      <td>230</td>\n",
       "    </tr>\n",
       "    <tr>\n",
       "      <th>12</th>\n",
       "      <td>zebra</td>\n",
       "      <td>1013</td>\n",
       "      <td>220</td>\n",
       "    </tr>\n",
       "    <tr>\n",
       "      <th>13</th>\n",
       "      <td>zebra</td>\n",
       "      <td>1014</td>\n",
       "      <td>100</td>\n",
       "    </tr>\n",
       "    <tr>\n",
       "      <th>14</th>\n",
       "      <td>zebra</td>\n",
       "      <td>1015</td>\n",
       "      <td>80</td>\n",
       "    </tr>\n",
       "    <tr>\n",
       "      <th>15</th>\n",
       "      <td>lion</td>\n",
       "      <td>1016</td>\n",
       "      <td>420</td>\n",
       "    </tr>\n",
       "    <tr>\n",
       "      <th>16</th>\n",
       "      <td>lion</td>\n",
       "      <td>1017</td>\n",
       "      <td>600</td>\n",
       "    </tr>\n",
       "    <tr>\n",
       "      <th>17</th>\n",
       "      <td>lion</td>\n",
       "      <td>1018</td>\n",
       "      <td>500</td>\n",
       "    </tr>\n",
       "    <tr>\n",
       "      <th>18</th>\n",
       "      <td>lion</td>\n",
       "      <td>1019</td>\n",
       "      <td>390</td>\n",
       "    </tr>\n",
       "    <tr>\n",
       "      <th>19</th>\n",
       "      <td>kangaroo</td>\n",
       "      <td>1020</td>\n",
       "      <td>410</td>\n",
       "    </tr>\n",
       "    <tr>\n",
       "      <th>20</th>\n",
       "      <td>kangaroo</td>\n",
       "      <td>1021</td>\n",
       "      <td>430</td>\n",
       "    </tr>\n",
       "    <tr>\n",
       "      <th>21</th>\n",
       "      <td>kangaroo</td>\n",
       "      <td>1022</td>\n",
       "      <td>410</td>\n",
       "    </tr>\n",
       "  </tbody>\n",
       "</table>\n",
       "</div>"
      ],
      "text/plain": [
       "      animal  uniq_id  water_need\n",
       "0   elephant     1001         500\n",
       "1   elephant     1002         600\n",
       "2   elephant     1003         550\n",
       "3      tiger     1004         300\n",
       "4      tiger     1005         320\n",
       "5      tiger     1006         330\n",
       "6      tiger     1007         290\n",
       "7      tiger     1008         310\n",
       "8      zebra     1009         200\n",
       "9      zebra     1010         220\n",
       "10     zebra     1011         240\n",
       "11     zebra     1012         230\n",
       "12     zebra     1013         220\n",
       "13     zebra     1014         100\n",
       "14     zebra     1015          80\n",
       "15      lion     1016         420\n",
       "16      lion     1017         600\n",
       "17      lion     1018         500\n",
       "18      lion     1019         390\n",
       "19  kangaroo     1020         410\n",
       "20  kangaroo     1021         430\n",
       "21  kangaroo     1022         410"
      ]
     },
     "execution_count": 238,
     "metadata": {},
     "output_type": "execute_result"
    }
   ],
   "source": [
    "zoo = pd.read_csv(\"ML-datasets-master/zoo.csv\")\n",
    "zoo"
   ]
  },
  {
   "cell_type": "code",
   "execution_count": 239,
   "id": "70fb7c5b-6ef9-4ec5-8833-f1cb63fa8827",
   "metadata": {
    "tags": []
   },
   "outputs": [],
   "source": [
    "# dodawanie nowego wiersza\n",
    "zoo.loc[22] = [\"kangaroo\", 1023, 400]"
   ]
  },
  {
   "cell_type": "code",
   "execution_count": 240,
   "id": "cd35b72e-f05e-445b-8c7e-659db36ec0d5",
   "metadata": {
    "tags": []
   },
   "outputs": [
    {
     "data": {
      "text/html": [
       "<div>\n",
       "<style scoped>\n",
       "    .dataframe tbody tr th:only-of-type {\n",
       "        vertical-align: middle;\n",
       "    }\n",
       "\n",
       "    .dataframe tbody tr th {\n",
       "        vertical-align: top;\n",
       "    }\n",
       "\n",
       "    .dataframe thead th {\n",
       "        text-align: right;\n",
       "    }\n",
       "</style>\n",
       "<table border=\"1\" class=\"dataframe\">\n",
       "  <thead>\n",
       "    <tr style=\"text-align: right;\">\n",
       "      <th></th>\n",
       "      <th>animal</th>\n",
       "      <th>uniq_id</th>\n",
       "      <th>water_need</th>\n",
       "    </tr>\n",
       "  </thead>\n",
       "  <tbody>\n",
       "    <tr>\n",
       "      <th>0</th>\n",
       "      <td>elephant</td>\n",
       "      <td>1001</td>\n",
       "      <td>500</td>\n",
       "    </tr>\n",
       "    <tr>\n",
       "      <th>1</th>\n",
       "      <td>elephant</td>\n",
       "      <td>1002</td>\n",
       "      <td>600</td>\n",
       "    </tr>\n",
       "    <tr>\n",
       "      <th>2</th>\n",
       "      <td>elephant</td>\n",
       "      <td>1003</td>\n",
       "      <td>550</td>\n",
       "    </tr>\n",
       "    <tr>\n",
       "      <th>3</th>\n",
       "      <td>tiger</td>\n",
       "      <td>1004</td>\n",
       "      <td>300</td>\n",
       "    </tr>\n",
       "    <tr>\n",
       "      <th>4</th>\n",
       "      <td>tiger</td>\n",
       "      <td>1005</td>\n",
       "      <td>320</td>\n",
       "    </tr>\n",
       "    <tr>\n",
       "      <th>5</th>\n",
       "      <td>tiger</td>\n",
       "      <td>1006</td>\n",
       "      <td>330</td>\n",
       "    </tr>\n",
       "    <tr>\n",
       "      <th>6</th>\n",
       "      <td>tiger</td>\n",
       "      <td>1007</td>\n",
       "      <td>290</td>\n",
       "    </tr>\n",
       "    <tr>\n",
       "      <th>7</th>\n",
       "      <td>tiger</td>\n",
       "      <td>1008</td>\n",
       "      <td>310</td>\n",
       "    </tr>\n",
       "    <tr>\n",
       "      <th>8</th>\n",
       "      <td>zebra</td>\n",
       "      <td>1009</td>\n",
       "      <td>200</td>\n",
       "    </tr>\n",
       "    <tr>\n",
       "      <th>9</th>\n",
       "      <td>zebra</td>\n",
       "      <td>1010</td>\n",
       "      <td>220</td>\n",
       "    </tr>\n",
       "    <tr>\n",
       "      <th>10</th>\n",
       "      <td>zebra</td>\n",
       "      <td>1011</td>\n",
       "      <td>240</td>\n",
       "    </tr>\n",
       "    <tr>\n",
       "      <th>11</th>\n",
       "      <td>zebra</td>\n",
       "      <td>1012</td>\n",
       "      <td>230</td>\n",
       "    </tr>\n",
       "    <tr>\n",
       "      <th>12</th>\n",
       "      <td>zebra</td>\n",
       "      <td>1013</td>\n",
       "      <td>220</td>\n",
       "    </tr>\n",
       "    <tr>\n",
       "      <th>13</th>\n",
       "      <td>zebra</td>\n",
       "      <td>1014</td>\n",
       "      <td>100</td>\n",
       "    </tr>\n",
       "    <tr>\n",
       "      <th>14</th>\n",
       "      <td>zebra</td>\n",
       "      <td>1015</td>\n",
       "      <td>80</td>\n",
       "    </tr>\n",
       "    <tr>\n",
       "      <th>15</th>\n",
       "      <td>lion</td>\n",
       "      <td>1016</td>\n",
       "      <td>420</td>\n",
       "    </tr>\n",
       "    <tr>\n",
       "      <th>16</th>\n",
       "      <td>lion</td>\n",
       "      <td>1017</td>\n",
       "      <td>600</td>\n",
       "    </tr>\n",
       "    <tr>\n",
       "      <th>17</th>\n",
       "      <td>lion</td>\n",
       "      <td>1018</td>\n",
       "      <td>500</td>\n",
       "    </tr>\n",
       "    <tr>\n",
       "      <th>18</th>\n",
       "      <td>lion</td>\n",
       "      <td>1019</td>\n",
       "      <td>390</td>\n",
       "    </tr>\n",
       "    <tr>\n",
       "      <th>19</th>\n",
       "      <td>kangaroo</td>\n",
       "      <td>1020</td>\n",
       "      <td>410</td>\n",
       "    </tr>\n",
       "    <tr>\n",
       "      <th>20</th>\n",
       "      <td>kangaroo</td>\n",
       "      <td>1021</td>\n",
       "      <td>430</td>\n",
       "    </tr>\n",
       "    <tr>\n",
       "      <th>21</th>\n",
       "      <td>kangaroo</td>\n",
       "      <td>1022</td>\n",
       "      <td>410</td>\n",
       "    </tr>\n",
       "    <tr>\n",
       "      <th>22</th>\n",
       "      <td>kangaroo</td>\n",
       "      <td>1023</td>\n",
       "      <td>400</td>\n",
       "    </tr>\n",
       "  </tbody>\n",
       "</table>\n",
       "</div>"
      ],
      "text/plain": [
       "      animal  uniq_id  water_need\n",
       "0   elephant     1001         500\n",
       "1   elephant     1002         600\n",
       "2   elephant     1003         550\n",
       "3      tiger     1004         300\n",
       "4      tiger     1005         320\n",
       "5      tiger     1006         330\n",
       "6      tiger     1007         290\n",
       "7      tiger     1008         310\n",
       "8      zebra     1009         200\n",
       "9      zebra     1010         220\n",
       "10     zebra     1011         240\n",
       "11     zebra     1012         230\n",
       "12     zebra     1013         220\n",
       "13     zebra     1014         100\n",
       "14     zebra     1015          80\n",
       "15      lion     1016         420\n",
       "16      lion     1017         600\n",
       "17      lion     1018         500\n",
       "18      lion     1019         390\n",
       "19  kangaroo     1020         410\n",
       "20  kangaroo     1021         430\n",
       "21  kangaroo     1022         410\n",
       "22  kangaroo     1023         400"
      ]
     },
     "execution_count": 240,
     "metadata": {},
     "output_type": "execute_result"
    }
   ],
   "source": [
    "zoo"
   ]
  },
  {
   "cell_type": "code",
   "execution_count": 241,
   "id": "20e25250-f3e3-45ff-8bad-baa7544efc97",
   "metadata": {
    "tags": []
   },
   "outputs": [],
   "source": [
    "additional_animal = pd.DataFrame({\"animal\": [\"kangaroo\"],\n",
    "                                  \"uniq_id\": [1024], \"water_need\": [500]})\n",
    "\n",
    "zoo = pd.concat([zoo, additional_animal], ignore_index=True)"
   ]
  },
  {
   "cell_type": "code",
   "execution_count": 242,
   "id": "de9e5171-7152-4bd1-aef8-19ceaae0ef9e",
   "metadata": {
    "tags": []
   },
   "outputs": [
    {
     "data": {
      "text/html": [
       "<div>\n",
       "<style scoped>\n",
       "    .dataframe tbody tr th:only-of-type {\n",
       "        vertical-align: middle;\n",
       "    }\n",
       "\n",
       "    .dataframe tbody tr th {\n",
       "        vertical-align: top;\n",
       "    }\n",
       "\n",
       "    .dataframe thead th {\n",
       "        text-align: right;\n",
       "    }\n",
       "</style>\n",
       "<table border=\"1\" class=\"dataframe\">\n",
       "  <thead>\n",
       "    <tr style=\"text-align: right;\">\n",
       "      <th></th>\n",
       "      <th>animal</th>\n",
       "      <th>food</th>\n",
       "    </tr>\n",
       "  </thead>\n",
       "  <tbody>\n",
       "    <tr>\n",
       "      <th>0</th>\n",
       "      <td>zebra</td>\n",
       "      <td>vegetables</td>\n",
       "    </tr>\n",
       "    <tr>\n",
       "      <th>1</th>\n",
       "      <td>tiger</td>\n",
       "      <td>meat</td>\n",
       "    </tr>\n",
       "    <tr>\n",
       "      <th>2</th>\n",
       "      <td>lion</td>\n",
       "      <td>meat</td>\n",
       "    </tr>\n",
       "    <tr>\n",
       "      <th>3</th>\n",
       "      <td>giraffe</td>\n",
       "      <td>vegetables</td>\n",
       "    </tr>\n",
       "    <tr>\n",
       "      <th>4</th>\n",
       "      <td>elephant</td>\n",
       "      <td>vegetables</td>\n",
       "    </tr>\n",
       "  </tbody>\n",
       "</table>\n",
       "</div>"
      ],
      "text/plain": [
       "     animal        food\n",
       "0     zebra  vegetables\n",
       "1     tiger        meat\n",
       "2      lion        meat\n",
       "3   giraffe  vegetables\n",
       "4  elephant  vegetables"
      ]
     },
     "execution_count": 242,
     "metadata": {},
     "output_type": "execute_result"
    }
   ],
   "source": [
    "zoo_eats = pd.DataFrame({\"animal\": [\"zebra\", \"tiger\", \"lion\", \"giraffe\", \"elephant\"],\n",
    "                        \"food\": [\"vegetables\", \"meat\", \"meat\", \"vegetables\", \"vegetables\"]})\n",
    "zoo_eats"
   ]
  },
  {
   "cell_type": "code",
   "execution_count": 243,
   "id": "c9a6234d-1fed-4597-828d-ef3c549db9e0",
   "metadata": {
    "tags": []
   },
   "outputs": [
    {
     "data": {
      "text/html": [
       "<div>\n",
       "<style scoped>\n",
       "    .dataframe tbody tr th:only-of-type {\n",
       "        vertical-align: middle;\n",
       "    }\n",
       "\n",
       "    .dataframe tbody tr th {\n",
       "        vertical-align: top;\n",
       "    }\n",
       "\n",
       "    .dataframe thead th {\n",
       "        text-align: right;\n",
       "    }\n",
       "</style>\n",
       "<table border=\"1\" class=\"dataframe\">\n",
       "  <thead>\n",
       "    <tr style=\"text-align: right;\">\n",
       "      <th></th>\n",
       "      <th>animal_x</th>\n",
       "      <th>uniq_id</th>\n",
       "      <th>water_need</th>\n",
       "      <th>animal_y</th>\n",
       "      <th>food</th>\n",
       "    </tr>\n",
       "  </thead>\n",
       "  <tbody>\n",
       "    <tr>\n",
       "      <th>0</th>\n",
       "      <td>elephant</td>\n",
       "      <td>1001</td>\n",
       "      <td>500</td>\n",
       "      <td>zebra</td>\n",
       "      <td>vegetables</td>\n",
       "    </tr>\n",
       "    <tr>\n",
       "      <th>1</th>\n",
       "      <td>elephant</td>\n",
       "      <td>1001</td>\n",
       "      <td>500</td>\n",
       "      <td>tiger</td>\n",
       "      <td>meat</td>\n",
       "    </tr>\n",
       "    <tr>\n",
       "      <th>2</th>\n",
       "      <td>elephant</td>\n",
       "      <td>1001</td>\n",
       "      <td>500</td>\n",
       "      <td>lion</td>\n",
       "      <td>meat</td>\n",
       "    </tr>\n",
       "    <tr>\n",
       "      <th>3</th>\n",
       "      <td>elephant</td>\n",
       "      <td>1001</td>\n",
       "      <td>500</td>\n",
       "      <td>giraffe</td>\n",
       "      <td>vegetables</td>\n",
       "    </tr>\n",
       "    <tr>\n",
       "      <th>4</th>\n",
       "      <td>elephant</td>\n",
       "      <td>1001</td>\n",
       "      <td>500</td>\n",
       "      <td>elephant</td>\n",
       "      <td>vegetables</td>\n",
       "    </tr>\n",
       "    <tr>\n",
       "      <th>...</th>\n",
       "      <td>...</td>\n",
       "      <td>...</td>\n",
       "      <td>...</td>\n",
       "      <td>...</td>\n",
       "      <td>...</td>\n",
       "    </tr>\n",
       "    <tr>\n",
       "      <th>115</th>\n",
       "      <td>kangaroo</td>\n",
       "      <td>1024</td>\n",
       "      <td>500</td>\n",
       "      <td>zebra</td>\n",
       "      <td>vegetables</td>\n",
       "    </tr>\n",
       "    <tr>\n",
       "      <th>116</th>\n",
       "      <td>kangaroo</td>\n",
       "      <td>1024</td>\n",
       "      <td>500</td>\n",
       "      <td>tiger</td>\n",
       "      <td>meat</td>\n",
       "    </tr>\n",
       "    <tr>\n",
       "      <th>117</th>\n",
       "      <td>kangaroo</td>\n",
       "      <td>1024</td>\n",
       "      <td>500</td>\n",
       "      <td>lion</td>\n",
       "      <td>meat</td>\n",
       "    </tr>\n",
       "    <tr>\n",
       "      <th>118</th>\n",
       "      <td>kangaroo</td>\n",
       "      <td>1024</td>\n",
       "      <td>500</td>\n",
       "      <td>giraffe</td>\n",
       "      <td>vegetables</td>\n",
       "    </tr>\n",
       "    <tr>\n",
       "      <th>119</th>\n",
       "      <td>kangaroo</td>\n",
       "      <td>1024</td>\n",
       "      <td>500</td>\n",
       "      <td>elephant</td>\n",
       "      <td>vegetables</td>\n",
       "    </tr>\n",
       "  </tbody>\n",
       "</table>\n",
       "<p>120 rows × 5 columns</p>\n",
       "</div>"
      ],
      "text/plain": [
       "     animal_x  uniq_id  water_need  animal_y        food\n",
       "0    elephant     1001         500     zebra  vegetables\n",
       "1    elephant     1001         500     tiger        meat\n",
       "2    elephant     1001         500      lion        meat\n",
       "3    elephant     1001         500   giraffe  vegetables\n",
       "4    elephant     1001         500  elephant  vegetables\n",
       "..        ...      ...         ...       ...         ...\n",
       "115  kangaroo     1024         500     zebra  vegetables\n",
       "116  kangaroo     1024         500     tiger        meat\n",
       "117  kangaroo     1024         500      lion        meat\n",
       "118  kangaroo     1024         500   giraffe  vegetables\n",
       "119  kangaroo     1024         500  elephant  vegetables\n",
       "\n",
       "[120 rows x 5 columns]"
      ]
     },
     "execution_count": 243,
     "metadata": {},
     "output_type": "execute_result"
    }
   ],
   "source": [
    "# pd.merge(df1, df2)\n",
    "# df1.merge(df2)\n",
    "\n",
    "zoo.merge(zoo_eats) #domyślnie inner, na kolumnach o tej samej nazwie\n",
    "zoo.merge(zoo_eats, how=\"left\")\n",
    "zoo.merge(zoo_eats, how=\"right\", on=\"animal\")\n",
    "zoo.merge(zoo_eats, how=\"outer\", left_on=\"animal\", right_on=\"animal\")\n",
    "zoo.merge(zoo_eats, how=\"cross\")"
   ]
  },
  {
   "cell_type": "code",
   "execution_count": 244,
   "id": "c68f3c25-1b14-46ba-9131-1c9b11f0f052",
   "metadata": {
    "tags": []
   },
   "outputs": [],
   "source": [
    "zoo = zoo.merge(zoo_eats, how=\"outer\")"
   ]
  },
  {
   "cell_type": "code",
   "execution_count": 245,
   "id": "dd423bc6-fab2-4515-8998-9cf76aa5aa7b",
   "metadata": {
    "tags": []
   },
   "outputs": [],
   "source": [
    "#wypełnianie danych brakujących\n",
    "zoo.water_need = zoo.water_need.fillna(zoo.water_need.mean())"
   ]
  },
  {
   "cell_type": "code",
   "execution_count": null,
   "id": "dc0c2832-ee90-4ad4-ae7a-cd15619eddb2",
   "metadata": {
    "tags": []
   },
   "outputs": [],
   "source": [
    "zoo.uniq_id = zoo.uniq_id.ffill() # forward fill"
   ]
  },
  {
   "cell_type": "code",
   "execution_count": 251,
   "id": "20c327e9-82de-45c7-aff1-8bce695973f6",
   "metadata": {
    "tags": []
   },
   "outputs": [],
   "source": [
    "def fill_food(x):\n",
    "    if x == \"lion\" or x == \"tiger\":\n",
    "        return \"meat\"\n",
    "    else:\n",
    "        return \"vegetables\"\n",
    "    \n",
    "zoo.food = zoo.food.fillna(zoo.animal.apply(fill_food))"
   ]
  },
  {
   "cell_type": "markdown",
   "id": "1a6c66db-ab20-4b1e-b94f-191bb70e98c5",
   "metadata": {},
   "source": [
    "## Sortowanie danych"
   ]
  },
  {
   "cell_type": "code",
   "execution_count": 260,
   "id": "0f795c0a-41c9-4fb6-a68a-7705f8ce1b8d",
   "metadata": {
    "tags": []
   },
   "outputs": [],
   "source": [
    "cars.sort_index(ascending=False)\n",
    "\n",
    "cars.sort_values(\"cylinders\")\n",
    "cars.sort_values(\"cylinders\", ascending=False)\n",
    "cars.sort_values([\"cylinders\", \"modelyear\"], ascending=[True, False])\n",
    "cars.sort_values([\"cylinders\", \"modelyear\"], ascending=[True, False], inplace=True)"
   ]
  },
  {
   "cell_type": "code",
   "execution_count": 263,
   "id": "31e4ff95-b9ce-43ae-a857-9d23615274ee",
   "metadata": {
    "tags": []
   },
   "outputs": [],
   "source": [
    "cars.reset_index(drop=True, inplace=True)"
   ]
  },
  {
   "cell_type": "code",
   "execution_count": 264,
   "id": "8f81fa2b-df4e-4e40-974c-9bfcab89e96d",
   "metadata": {
    "tags": []
   },
   "outputs": [
    {
     "data": {
      "text/html": [
       "<div>\n",
       "<style scoped>\n",
       "    .dataframe tbody tr th:only-of-type {\n",
       "        vertical-align: middle;\n",
       "    }\n",
       "\n",
       "    .dataframe tbody tr th {\n",
       "        vertical-align: top;\n",
       "    }\n",
       "\n",
       "    .dataframe thead th {\n",
       "        text-align: right;\n",
       "    }\n",
       "</style>\n",
       "<table border=\"1\" class=\"dataframe\">\n",
       "  <thead>\n",
       "    <tr style=\"text-align: right;\">\n",
       "      <th></th>\n",
       "      <th>cylinders</th>\n",
       "      <th>displacement</th>\n",
       "      <th>horsepower</th>\n",
       "      <th>weight</th>\n",
       "      <th>acceleration</th>\n",
       "      <th>modelyear</th>\n",
       "      <th>origin</th>\n",
       "      <th>mpg</th>\n",
       "      <th>real_power</th>\n",
       "      <th>horsepower_n</th>\n",
       "      <th>horsepower_s</th>\n",
       "      <th>horsepower_d</th>\n",
       "    </tr>\n",
       "  </thead>\n",
       "  <tbody>\n",
       "    <tr>\n",
       "      <th>0</th>\n",
       "      <td>3</td>\n",
       "      <td>70.0</td>\n",
       "      <td>100.0</td>\n",
       "      <td>2420.0</td>\n",
       "      <td>12.5</td>\n",
       "      <td>80</td>\n",
       "      <td>3</td>\n",
       "      <td>23.7</td>\n",
       "      <td>4.132231</td>\n",
       "      <td>0.293478</td>\n",
       "      <td>-0.110164</td>\n",
       "      <td>Average</td>\n",
       "    </tr>\n",
       "    <tr>\n",
       "      <th>1</th>\n",
       "      <td>3</td>\n",
       "      <td>80.0</td>\n",
       "      <td>110.0</td>\n",
       "      <td>2720.0</td>\n",
       "      <td>13.5</td>\n",
       "      <td>77</td>\n",
       "      <td>3</td>\n",
       "      <td>21.5</td>\n",
       "      <td>4.044118</td>\n",
       "      <td>0.347826</td>\n",
       "      <td>0.149908</td>\n",
       "      <td>Average</td>\n",
       "    </tr>\n",
       "    <tr>\n",
       "      <th>2</th>\n",
       "      <td>3</td>\n",
       "      <td>70.0</td>\n",
       "      <td>90.0</td>\n",
       "      <td>2124.0</td>\n",
       "      <td>13.5</td>\n",
       "      <td>73</td>\n",
       "      <td>3</td>\n",
       "      <td>18.0</td>\n",
       "      <td>4.237288</td>\n",
       "      <td>0.239130</td>\n",
       "      <td>-0.370235</td>\n",
       "      <td>Weak</td>\n",
       "    </tr>\n",
       "    <tr>\n",
       "      <th>3</th>\n",
       "      <td>3</td>\n",
       "      <td>70.0</td>\n",
       "      <td>97.0</td>\n",
       "      <td>2330.0</td>\n",
       "      <td>13.5</td>\n",
       "      <td>72</td>\n",
       "      <td>3</td>\n",
       "      <td>19.0</td>\n",
       "      <td>4.163090</td>\n",
       "      <td>0.277174</td>\n",
       "      <td>-0.188185</td>\n",
       "      <td>Weak</td>\n",
       "    </tr>\n",
       "    <tr>\n",
       "      <th>4</th>\n",
       "      <td>4</td>\n",
       "      <td>112.0</td>\n",
       "      <td>88.0</td>\n",
       "      <td>2605.0</td>\n",
       "      <td>19.6</td>\n",
       "      <td>82</td>\n",
       "      <td>1</td>\n",
       "      <td>28.0</td>\n",
       "      <td>3.378119</td>\n",
       "      <td>0.228261</td>\n",
       "      <td>-0.422250</td>\n",
       "      <td>Weak</td>\n",
       "    </tr>\n",
       "    <tr>\n",
       "      <th>...</th>\n",
       "      <td>...</td>\n",
       "      <td>...</td>\n",
       "      <td>...</td>\n",
       "      <td>...</td>\n",
       "      <td>...</td>\n",
       "      <td>...</td>\n",
       "      <td>...</td>\n",
       "      <td>...</td>\n",
       "      <td>...</td>\n",
       "      <td>...</td>\n",
       "      <td>...</td>\n",
       "      <td>...</td>\n",
       "    </tr>\n",
       "    <tr>\n",
       "      <th>391</th>\n",
       "      <td>8</td>\n",
       "      <td>455.0</td>\n",
       "      <td>225.0</td>\n",
       "      <td>3086.0</td>\n",
       "      <td>10.0</td>\n",
       "      <td>70</td>\n",
       "      <td>1</td>\n",
       "      <td>14.0</td>\n",
       "      <td>7.290992</td>\n",
       "      <td>0.972826</td>\n",
       "      <td>3.140733</td>\n",
       "      <td>Power!</td>\n",
       "    </tr>\n",
       "    <tr>\n",
       "      <th>392</th>\n",
       "      <td>8</td>\n",
       "      <td>360.0</td>\n",
       "      <td>215.0</td>\n",
       "      <td>4615.0</td>\n",
       "      <td>14.0</td>\n",
       "      <td>70</td>\n",
       "      <td>1</td>\n",
       "      <td>10.0</td>\n",
       "      <td>4.658722</td>\n",
       "      <td>0.918478</td>\n",
       "      <td>2.880661</td>\n",
       "      <td>Power!</td>\n",
       "    </tr>\n",
       "    <tr>\n",
       "      <th>393</th>\n",
       "      <td>8</td>\n",
       "      <td>307.0</td>\n",
       "      <td>200.0</td>\n",
       "      <td>4376.0</td>\n",
       "      <td>15.0</td>\n",
       "      <td>70</td>\n",
       "      <td>1</td>\n",
       "      <td>10.0</td>\n",
       "      <td>4.570384</td>\n",
       "      <td>0.836957</td>\n",
       "      <td>2.490554</td>\n",
       "      <td>Power!</td>\n",
       "    </tr>\n",
       "    <tr>\n",
       "      <th>394</th>\n",
       "      <td>8</td>\n",
       "      <td>318.0</td>\n",
       "      <td>210.0</td>\n",
       "      <td>4382.0</td>\n",
       "      <td>13.5</td>\n",
       "      <td>70</td>\n",
       "      <td>1</td>\n",
       "      <td>11.0</td>\n",
       "      <td>4.792332</td>\n",
       "      <td>0.891304</td>\n",
       "      <td>2.750626</td>\n",
       "      <td>Power!</td>\n",
       "    </tr>\n",
       "    <tr>\n",
       "      <th>395</th>\n",
       "      <td>8</td>\n",
       "      <td>304.0</td>\n",
       "      <td>193.0</td>\n",
       "      <td>4732.0</td>\n",
       "      <td>18.5</td>\n",
       "      <td>70</td>\n",
       "      <td>1</td>\n",
       "      <td>9.0</td>\n",
       "      <td>4.078614</td>\n",
       "      <td>0.798913</td>\n",
       "      <td>2.308504</td>\n",
       "      <td>Average</td>\n",
       "    </tr>\n",
       "  </tbody>\n",
       "</table>\n",
       "<p>396 rows × 12 columns</p>\n",
       "</div>"
      ],
      "text/plain": [
       "     cylinders  displacement  horsepower  weight  acceleration  modelyear  \\\n",
       "0            3          70.0       100.0  2420.0          12.5         80   \n",
       "1            3          80.0       110.0  2720.0          13.5         77   \n",
       "2            3          70.0        90.0  2124.0          13.5         73   \n",
       "3            3          70.0        97.0  2330.0          13.5         72   \n",
       "4            4         112.0        88.0  2605.0          19.6         82   \n",
       "..         ...           ...         ...     ...           ...        ...   \n",
       "391          8         455.0       225.0  3086.0          10.0         70   \n",
       "392          8         360.0       215.0  4615.0          14.0         70   \n",
       "393          8         307.0       200.0  4376.0          15.0         70   \n",
       "394          8         318.0       210.0  4382.0          13.5         70   \n",
       "395          8         304.0       193.0  4732.0          18.5         70   \n",
       "\n",
       "     origin   mpg  real_power  horsepower_n  horsepower_s horsepower_d  \n",
       "0         3  23.7    4.132231      0.293478     -0.110164      Average  \n",
       "1         3  21.5    4.044118      0.347826      0.149908      Average  \n",
       "2         3  18.0    4.237288      0.239130     -0.370235         Weak  \n",
       "3         3  19.0    4.163090      0.277174     -0.188185         Weak  \n",
       "4         1  28.0    3.378119      0.228261     -0.422250         Weak  \n",
       "..      ...   ...         ...           ...           ...          ...  \n",
       "391       1  14.0    7.290992      0.972826      3.140733       Power!  \n",
       "392       1  10.0    4.658722      0.918478      2.880661       Power!  \n",
       "393       1  10.0    4.570384      0.836957      2.490554       Power!  \n",
       "394       1  11.0    4.792332      0.891304      2.750626       Power!  \n",
       "395       1   9.0    4.078614      0.798913      2.308504      Average  \n",
       "\n",
       "[396 rows x 12 columns]"
      ]
     },
     "execution_count": 264,
     "metadata": {},
     "output_type": "execute_result"
    }
   ],
   "source": [
    "cars"
   ]
  },
  {
   "cell_type": "code",
   "execution_count": 269,
   "id": "d2e6b17e-c842-4870-a8b2-05042aedaa6a",
   "metadata": {
    "tags": []
   },
   "outputs": [
    {
     "data": {
      "text/html": [
       "<div>\n",
       "<style scoped>\n",
       "    .dataframe tbody tr th:only-of-type {\n",
       "        vertical-align: middle;\n",
       "    }\n",
       "\n",
       "    .dataframe tbody tr th {\n",
       "        vertical-align: top;\n",
       "    }\n",
       "\n",
       "    .dataframe thead th {\n",
       "        text-align: right;\n",
       "    }\n",
       "</style>\n",
       "<table border=\"1\" class=\"dataframe\">\n",
       "  <thead>\n",
       "    <tr style=\"text-align: right;\">\n",
       "      <th></th>\n",
       "      <th>name</th>\n",
       "      <th>score</th>\n",
       "      <th>percentage</th>\n",
       "      <th>anonymized</th>\n",
       "      <th>anonymized_2</th>\n",
       "    </tr>\n",
       "  </thead>\n",
       "  <tbody>\n",
       "    <tr>\n",
       "      <th>0</th>\n",
       "      <td>Ania</td>\n",
       "      <td>30</td>\n",
       "      <td>100.000000</td>\n",
       "      <td>A...a</td>\n",
       "      <td>A..a</td>\n",
       "    </tr>\n",
       "    <tr>\n",
       "      <th>2</th>\n",
       "      <td>Leon</td>\n",
       "      <td>29</td>\n",
       "      <td>96.666667</td>\n",
       "      <td>L...n</td>\n",
       "      <td>L..n</td>\n",
       "    </tr>\n",
       "    <tr>\n",
       "      <th>1</th>\n",
       "      <td>Lena</td>\n",
       "      <td>28</td>\n",
       "      <td>93.333333</td>\n",
       "      <td>L...a</td>\n",
       "      <td>L..a</td>\n",
       "    </tr>\n",
       "    <tr>\n",
       "      <th>5</th>\n",
       "      <td>Marta</td>\n",
       "      <td>22</td>\n",
       "      <td>73.333333</td>\n",
       "      <td>M...a</td>\n",
       "      <td>M...a</td>\n",
       "    </tr>\n",
       "    <tr>\n",
       "      <th>4</th>\n",
       "      <td>Gosia</td>\n",
       "      <td>16</td>\n",
       "      <td>53.333333</td>\n",
       "      <td>G...a</td>\n",
       "      <td>G...a</td>\n",
       "    </tr>\n",
       "    <tr>\n",
       "      <th>3</th>\n",
       "      <td>Wiktor</td>\n",
       "      <td>15</td>\n",
       "      <td>50.000000</td>\n",
       "      <td>W...r</td>\n",
       "      <td>W....r</td>\n",
       "    </tr>\n",
       "    <tr>\n",
       "      <th>9</th>\n",
       "      <td>Ola</td>\n",
       "      <td>11</td>\n",
       "      <td>36.666667</td>\n",
       "      <td>O...a</td>\n",
       "      <td>O.a</td>\n",
       "    </tr>\n",
       "    <tr>\n",
       "      <th>6</th>\n",
       "      <td>Damian</td>\n",
       "      <td>7</td>\n",
       "      <td>23.333333</td>\n",
       "      <td>D...n</td>\n",
       "      <td>D....n</td>\n",
       "    </tr>\n",
       "    <tr>\n",
       "      <th>7</th>\n",
       "      <td>Mateusz</td>\n",
       "      <td>5</td>\n",
       "      <td>16.666667</td>\n",
       "      <td>M...z</td>\n",
       "      <td>M.....z</td>\n",
       "    </tr>\n",
       "    <tr>\n",
       "      <th>8</th>\n",
       "      <td>Czarek</td>\n",
       "      <td>1</td>\n",
       "      <td>3.333333</td>\n",
       "      <td>C...k</td>\n",
       "      <td>C....k</td>\n",
       "    </tr>\n",
       "  </tbody>\n",
       "</table>\n",
       "</div>"
      ],
      "text/plain": [
       "      name  score  percentage anonymized anonymized_2\n",
       "0     Ania     30  100.000000      A...a         A..a\n",
       "2     Leon     29   96.666667      L...n         L..n\n",
       "1     Lena     28   93.333333      L...a         L..a\n",
       "5    Marta     22   73.333333      M...a        M...a\n",
       "4    Gosia     16   53.333333      G...a        G...a\n",
       "3   Wiktor     15   50.000000      W...r       W....r\n",
       "9      Ola     11   36.666667      O...a          O.a\n",
       "6   Damian      7   23.333333      D...n       D....n\n",
       "7  Mateusz      5   16.666667      M...z      M.....z\n",
       "8   Czarek      1    3.333333      C...k       C....k"
      ]
     },
     "execution_count": 269,
     "metadata": {},
     "output_type": "execute_result"
    }
   ],
   "source": [
    "# zadanie 4\n",
    "students.sort_values([\"score\", \"name\"], ascending=[False, True])"
   ]
  },
  {
   "cell_type": "code",
   "execution_count": 270,
   "id": "f3777751-b517-4ff3-beba-d28fc0aebf5e",
   "metadata": {
    "tags": []
   },
   "outputs": [],
   "source": [
    "# zadanie 5\n",
    "student_data1 = pd.DataFrame({ 'student_id': ['S1', 'S2', 'S3', 'S4', 'S5'],\n",
    "                              'name': ['Danniella Fenton', 'RyderStorey', 'Bryce Jensen', 'Ed Bernal', 'Kwame Morin'] })\n",
    "student_data2 = pd.DataFrame({ 'student_id': ['S6', 'S7', 'S8', 'S9', 'S10'],\n",
    "                              'name': ['Scarlette Fisher', 'CarlaWilliamson', 'Dante Morse', 'Kaiser William', 'Madeeha Preston'] })\n",
    "\n",
    "all_data = pd.concat([student_data1, student_data2], ignore_index=True)"
   ]
  },
  {
   "cell_type": "code",
   "execution_count": 272,
   "id": "82d3355d-9405-4dad-85ff-9bce04c9b19a",
   "metadata": {
    "tags": []
   },
   "outputs": [],
   "source": [
    "# zadanie 6\n",
    "exam_results = pd.DataFrame({ 'student_id': ['S2', 'S10', 'S3', 'S1', 'S7', 'S9', 'S5', 'S4', 'S8', 'S6'],\n",
    "                             'marks': [200,210, 190, 222, 199, 201, 200, 198, 219, 201] })\n",
    "\n",
    "merged_data = all_data.merge(exam_results)"
   ]
  },
  {
   "cell_type": "markdown",
   "id": "a8ffd112-31b9-4a12-b5b0-8fc9d6343158",
   "metadata": {},
   "source": [
    "## Daty"
   ]
  },
  {
   "cell_type": "code",
   "execution_count": 274,
   "id": "7245e90e-89f8-43f8-8966-a2ef1a03d25a",
   "metadata": {
    "tags": []
   },
   "outputs": [
    {
     "data": {
      "text/html": [
       "<div>\n",
       "<style scoped>\n",
       "    .dataframe tbody tr th:only-of-type {\n",
       "        vertical-align: middle;\n",
       "    }\n",
       "\n",
       "    .dataframe tbody tr th {\n",
       "        vertical-align: top;\n",
       "    }\n",
       "\n",
       "    .dataframe thead th {\n",
       "        text-align: right;\n",
       "    }\n",
       "</style>\n",
       "<table border=\"1\" class=\"dataframe\">\n",
       "  <thead>\n",
       "    <tr style=\"text-align: right;\">\n",
       "      <th></th>\n",
       "      <th>0</th>\n",
       "      <th>1</th>\n",
       "      <th>2</th>\n",
       "    </tr>\n",
       "  </thead>\n",
       "  <tbody>\n",
       "    <tr>\n",
       "      <th>2025-06-10 15:38:12</th>\n",
       "      <td>0.589678</td>\n",
       "      <td>-0.015264</td>\n",
       "      <td>0.606916</td>\n",
       "    </tr>\n",
       "    <tr>\n",
       "      <th>2025-06-10 16:38:12</th>\n",
       "      <td>0.674684</td>\n",
       "      <td>0.149613</td>\n",
       "      <td>0.701889</td>\n",
       "    </tr>\n",
       "    <tr>\n",
       "      <th>2025-06-10 17:38:12</th>\n",
       "      <td>-1.542557</td>\n",
       "      <td>-0.674716</td>\n",
       "      <td>0.032763</td>\n",
       "    </tr>\n",
       "    <tr>\n",
       "      <th>2025-06-10 18:38:12</th>\n",
       "      <td>-0.480738</td>\n",
       "      <td>-0.873068</td>\n",
       "      <td>0.207894</td>\n",
       "    </tr>\n",
       "    <tr>\n",
       "      <th>2025-06-10 19:38:12</th>\n",
       "      <td>0.076619</td>\n",
       "      <td>-1.071123</td>\n",
       "      <td>0.425036</td>\n",
       "    </tr>\n",
       "    <tr>\n",
       "      <th>2025-06-10 20:38:12</th>\n",
       "      <td>0.754744</td>\n",
       "      <td>1.626280</td>\n",
       "      <td>-0.723071</td>\n",
       "    </tr>\n",
       "    <tr>\n",
       "      <th>2025-06-10 21:38:12</th>\n",
       "      <td>-0.421635</td>\n",
       "      <td>-0.403762</td>\n",
       "      <td>0.863729</td>\n",
       "    </tr>\n",
       "  </tbody>\n",
       "</table>\n",
       "</div>"
      ],
      "text/plain": [
       "                            0         1         2\n",
       "2025-06-10 15:38:12  0.589678 -0.015264  0.606916\n",
       "2025-06-10 16:38:12  0.674684  0.149613  0.701889\n",
       "2025-06-10 17:38:12 -1.542557 -0.674716  0.032763\n",
       "2025-06-10 18:38:12 -0.480738 -0.873068  0.207894\n",
       "2025-06-10 19:38:12  0.076619 -1.071123  0.425036\n",
       "2025-06-10 20:38:12  0.754744  1.626280 -0.723071\n",
       "2025-06-10 21:38:12 -0.421635 -0.403762  0.863729"
      ]
     },
     "execution_count": 274,
     "metadata": {},
     "output_type": "execute_result"
    }
   ],
   "source": [
    "# generowanie daty\n",
    "dates = pd.date_range(start=\"2025-06-10 15:38:12\", periods=7, freq=\"1h\")\n",
    "df_5 = pd.DataFrame(np.random.randn(7,3), index=dates)\n",
    "df_5"
   ]
  },
  {
   "cell_type": "code",
   "execution_count": null,
   "id": "32c3e744-43a3-482a-89c7-896d8f1a1c8d",
   "metadata": {
    "tags": []
   },
   "outputs": [],
   "source": [
    "# poprawne zczytywanie dat\n",
    "df_6 = pd.DataFrame({\"dates\": [\"25/06:10 - 15H38M40S\", \"25/06:11 - 17H12M35S\", \"25/06:12 - 10H45M00S\"]})\n",
    "df_6.info()"
   ]
  },
  {
   "cell_type": "code",
   "execution_count": 283,
   "id": "2641cdb4-c1af-4bdb-adb7-cfa0f39ea747",
   "metadata": {
    "tags": []
   },
   "outputs": [],
   "source": [
    "# df_6.dates.str[:9]"
   ]
  },
  {
   "cell_type": "code",
   "execution_count": 284,
   "id": "42038924-6e83-4fb5-9302-a9cfe45f35fe",
   "metadata": {
    "tags": []
   },
   "outputs": [],
   "source": [
    "df_6.dates = pd.to_datetime(df_6.dates, format=\"%y/%m:%d - %HH%MM%SS\")"
   ]
  },
  {
   "cell_type": "code",
   "execution_count": 281,
   "id": "6a548b7e-67f6-4db1-bc0d-0a6b89d57d0c",
   "metadata": {
    "tags": []
   },
   "outputs": [
    {
     "data": {
      "text/plain": [
       "0    2025-06-10\n",
       "1    2025-06-11\n",
       "2    2025-06-12\n",
       "Name: dates, dtype: object"
      ]
     },
     "execution_count": 281,
     "metadata": {},
     "output_type": "execute_result"
    }
   ],
   "source": [
    "pd.to_datetime(df_6.dates, format=\"%y/%m:%d - %HH%MM%SS\").dt.date"
   ]
  },
  {
   "cell_type": "code",
   "execution_count": null,
   "id": "e9274919-5c3f-4ff4-afeb-d3346702b2f0",
   "metadata": {
    "tags": []
   },
   "outputs": [],
   "source": [
    "df_6.info()"
   ]
  },
  {
   "cell_type": "code",
   "execution_count": 291,
   "id": "c992835c-4291-4514-b1fc-fd5b9eba0616",
   "metadata": {
    "tags": []
   },
   "outputs": [
    {
     "data": {
      "text/plain": [
       "0    15\n",
       "1    17\n",
       "2    10\n",
       "Name: dates, dtype: int32"
      ]
     },
     "execution_count": 291,
     "metadata": {},
     "output_type": "execute_result"
    }
   ],
   "source": [
    "df_6.dates.dt.month\n",
    "df_6.dates.dt.day_of_week\n",
    "df_6.dates.dt.day_of_year\n",
    "df_6.dates.dt.hour"
   ]
  },
  {
   "cell_type": "markdown",
   "id": "9ef52c9c-03c7-4d13-b783-b984090289ce",
   "metadata": {},
   "source": [
    "# Pandas profiling"
   ]
  },
  {
   "cell_type": "code",
   "execution_count": 5,
   "id": "a7000d6d-08bf-418d-a484-d7a478ad5c04",
   "metadata": {
    "tags": []
   },
   "outputs": [
    {
     "name": "stdout",
     "output_type": "stream",
     "text": [
      "Requirement already satisfied: ydata_profiling==4.16.1 in /opt/anaconda3/lib/python3.9/site-packages (4.16.1)\n",
      "Requirement already satisfied: scipy<1.16,>=1.4.1 in /opt/anaconda3/lib/python3.9/site-packages (from ydata_profiling==4.16.1) (1.9.3)\n",
      "Requirement already satisfied: pandas!=1.4.0,<3.0,>1.1 in /opt/anaconda3/lib/python3.9/site-packages (from ydata_profiling==4.16.1) (2.3.0)\n",
      "Requirement already satisfied: matplotlib<=3.10,>=3.5 in /opt/anaconda3/lib/python3.9/site-packages (from ydata_profiling==4.16.1) (3.6.2)\n",
      "Requirement already satisfied: pydantic>=2 in /opt/anaconda3/lib/python3.9/site-packages (from ydata_profiling==4.16.1) (2.9.1)\n",
      "Requirement already satisfied: PyYAML<6.1,>=5.0.0 in /opt/anaconda3/lib/python3.9/site-packages (from ydata_profiling==4.16.1) (6.0)\n",
      "Requirement already satisfied: jinja2<3.2,>=2.11.1 in /opt/anaconda3/lib/python3.9/site-packages (from ydata_profiling==4.16.1) (3.1.2)\n",
      "Requirement already satisfied: visions[type_image_path]<0.8.2,>=0.7.5 in /opt/anaconda3/lib/python3.9/site-packages (from ydata_profiling==4.16.1) (0.7.5)\n",
      "Requirement already satisfied: numpy<2.2,>=1.16.0 in /opt/anaconda3/lib/python3.9/site-packages (from ydata_profiling==4.16.1) (1.23.5)\n",
      "Requirement already satisfied: htmlmin==0.1.12 in /opt/anaconda3/lib/python3.9/site-packages (from ydata_profiling==4.16.1) (0.1.12)\n",
      "Requirement already satisfied: phik<0.13,>=0.11.1 in /opt/anaconda3/lib/python3.9/site-packages (from ydata_profiling==4.16.1) (0.12.3)\n",
      "Requirement already satisfied: requests<3,>=2.24.0 in /opt/anaconda3/lib/python3.9/site-packages (from ydata_profiling==4.16.1) (2.28.2)\n",
      "Requirement already satisfied: tqdm<5,>=4.48.2 in /opt/anaconda3/lib/python3.9/site-packages (from ydata_profiling==4.16.1) (4.64.1)\n",
      "Requirement already satisfied: seaborn<0.14,>=0.10.1 in /opt/anaconda3/lib/python3.9/site-packages (from ydata_profiling==4.16.1) (0.13.2)\n",
      "Requirement already satisfied: multimethod<2,>=1.4 in /opt/anaconda3/lib/python3.9/site-packages (from ydata_profiling==4.16.1) (1.9.1)\n",
      "Requirement already satisfied: statsmodels<1,>=0.13.2 in /opt/anaconda3/lib/python3.9/site-packages (from ydata_profiling==4.16.1) (0.13.5)\n",
      "Requirement already satisfied: typeguard<5,>=3 in /opt/anaconda3/lib/python3.9/site-packages (from ydata_profiling==4.16.1) (4.3.0)\n",
      "Requirement already satisfied: imagehash==4.3.1 in /opt/anaconda3/lib/python3.9/site-packages (from ydata_profiling==4.16.1) (4.3.1)\n",
      "Requirement already satisfied: wordcloud>=1.9.3 in /opt/anaconda3/lib/python3.9/site-packages (from ydata_profiling==4.16.1) (1.9.3)\n",
      "Requirement already satisfied: dacite>=1.8 in /opt/anaconda3/lib/python3.9/site-packages (from ydata_profiling==4.16.1) (1.8.1)\n",
      "Requirement already satisfied: numba<=0.61,>=0.56.0 in /opt/anaconda3/lib/python3.9/site-packages (from ydata_profiling==4.16.1) (0.57.0)\n",
      "Requirement already satisfied: pillow in /opt/anaconda3/lib/python3.9/site-packages (from imagehash==4.3.1->ydata_profiling==4.16.1) (9.4.0)\n",
      "Requirement already satisfied: PyWavelets in /opt/anaconda3/lib/python3.9/site-packages (from imagehash==4.3.1->ydata_profiling==4.16.1) (1.4.1)\n",
      "Requirement already satisfied: MarkupSafe>=2.0 in /opt/anaconda3/lib/python3.9/site-packages (from jinja2<3.2,>=2.11.1->ydata_profiling==4.16.1) (2.1.1)\n",
      "Requirement already satisfied: contourpy>=1.0.1 in /opt/anaconda3/lib/python3.9/site-packages (from matplotlib<=3.10,>=3.5->ydata_profiling==4.16.1) (1.0.5)\n",
      "Requirement already satisfied: cycler>=0.10 in /opt/anaconda3/lib/python3.9/site-packages (from matplotlib<=3.10,>=3.5->ydata_profiling==4.16.1) (0.11.0)\n",
      "Requirement already satisfied: fonttools>=4.22.0 in /opt/anaconda3/lib/python3.9/site-packages (from matplotlib<=3.10,>=3.5->ydata_profiling==4.16.1) (4.25.0)\n",
      "Requirement already satisfied: kiwisolver>=1.0.1 in /opt/anaconda3/lib/python3.9/site-packages (from matplotlib<=3.10,>=3.5->ydata_profiling==4.16.1) (1.4.4)\n",
      "Requirement already satisfied: packaging>=20.0 in /opt/anaconda3/lib/python3.9/site-packages (from matplotlib<=3.10,>=3.5->ydata_profiling==4.16.1) (24.0)\n",
      "Requirement already satisfied: pyparsing>=2.2.1 in /opt/anaconda3/lib/python3.9/site-packages (from matplotlib<=3.10,>=3.5->ydata_profiling==4.16.1) (3.0.9)\n",
      "Requirement already satisfied: python-dateutil>=2.7 in /opt/anaconda3/lib/python3.9/site-packages (from matplotlib<=3.10,>=3.5->ydata_profiling==4.16.1) (2.8.2)\n",
      "Requirement already satisfied: llvmlite<0.41,>=0.40.0dev0 in /opt/anaconda3/lib/python3.9/site-packages (from numba<=0.61,>=0.56.0->ydata_profiling==4.16.1) (0.40.0)\n",
      "Requirement already satisfied: pytz>=2020.1 in /opt/anaconda3/lib/python3.9/site-packages (from pandas!=1.4.0,<3.0,>1.1->ydata_profiling==4.16.1) (2022.7)\n",
      "Requirement already satisfied: tzdata>=2022.7 in /opt/anaconda3/lib/python3.9/site-packages (from pandas!=1.4.0,<3.0,>1.1->ydata_profiling==4.16.1) (2024.1)\n",
      "Requirement already satisfied: joblib>=0.14.1 in /opt/anaconda3/lib/python3.9/site-packages (from phik<0.13,>=0.11.1->ydata_profiling==4.16.1) (1.2.0)\n",
      "Requirement already satisfied: annotated-types>=0.6.0 in /opt/anaconda3/lib/python3.9/site-packages (from pydantic>=2->ydata_profiling==4.16.1) (0.7.0)\n",
      "Requirement already satisfied: pydantic-core==2.23.3 in /opt/anaconda3/lib/python3.9/site-packages (from pydantic>=2->ydata_profiling==4.16.1) (2.23.3)\n",
      "Requirement already satisfied: typing-extensions>=4.6.1 in /opt/anaconda3/lib/python3.9/site-packages (from pydantic>=2->ydata_profiling==4.16.1) (4.12.2)\n",
      "Requirement already satisfied: charset-normalizer<4,>=2 in /opt/anaconda3/lib/python3.9/site-packages (from requests<3,>=2.24.0->ydata_profiling==4.16.1) (2.0.4)\n",
      "Requirement already satisfied: idna<4,>=2.5 in /opt/anaconda3/lib/python3.9/site-packages (from requests<3,>=2.24.0->ydata_profiling==4.16.1) (3.4)\n",
      "Requirement already satisfied: urllib3<1.27,>=1.21.1 in /opt/anaconda3/lib/python3.9/site-packages (from requests<3,>=2.24.0->ydata_profiling==4.16.1) (1.26.16)\n",
      "Requirement already satisfied: certifi>=2017.4.17 in /opt/anaconda3/lib/python3.9/site-packages (from requests<3,>=2.24.0->ydata_profiling==4.16.1) (2023.5.7)\n",
      "Requirement already satisfied: patsy>=0.5.2 in /opt/anaconda3/lib/python3.9/site-packages (from statsmodels<1,>=0.13.2->ydata_profiling==4.16.1) (0.5.3)\n",
      "Requirement already satisfied: importlib-metadata>=3.6 in /opt/anaconda3/lib/python3.9/site-packages (from typeguard<5,>=3->ydata_profiling==4.16.1) (6.0.0)\n",
      "Requirement already satisfied: attrs>=19.3.0 in /opt/anaconda3/lib/python3.9/site-packages (from visions[type_image_path]<0.8.2,>=0.7.5->ydata_profiling==4.16.1) (22.1.0)\n",
      "Requirement already satisfied: networkx>=2.4 in /opt/anaconda3/lib/python3.9/site-packages (from visions[type_image_path]<0.8.2,>=0.7.5->ydata_profiling==4.16.1) (2.8.4)\n",
      "Requirement already satisfied: tangled-up-in-unicode>=0.0.4 in /opt/anaconda3/lib/python3.9/site-packages (from visions[type_image_path]<0.8.2,>=0.7.5->ydata_profiling==4.16.1) (0.2.0)\n",
      "Requirement already satisfied: zipp>=0.5 in /opt/anaconda3/lib/python3.9/site-packages (from importlib-metadata>=3.6->typeguard<5,>=3->ydata_profiling==4.16.1) (3.11.0)\n",
      "Requirement already satisfied: six in /opt/anaconda3/lib/python3.9/site-packages (from patsy>=0.5.2->statsmodels<1,>=0.13.2->ydata_profiling==4.16.1) (1.16.0)\n",
      "Collecting pandas==2.2.3\n",
      "  Using cached pandas-2.2.3-cp39-cp39-macosx_10_9_x86_64.whl (12.6 MB)\n",
      "Requirement already satisfied: numpy>=1.22.4 in /opt/anaconda3/lib/python3.9/site-packages (from pandas==2.2.3) (1.23.5)\n",
      "Requirement already satisfied: python-dateutil>=2.8.2 in /opt/anaconda3/lib/python3.9/site-packages (from pandas==2.2.3) (2.8.2)\n",
      "Requirement already satisfied: pytz>=2020.1 in /opt/anaconda3/lib/python3.9/site-packages (from pandas==2.2.3) (2022.7)\n",
      "Requirement already satisfied: tzdata>=2022.7 in /opt/anaconda3/lib/python3.9/site-packages (from pandas==2.2.3) (2024.1)\n",
      "Requirement already satisfied: six>=1.5 in /opt/anaconda3/lib/python3.9/site-packages (from python-dateutil>=2.8.2->pandas==2.2.3) (1.16.0)\n",
      "Installing collected packages: pandas\n",
      "  Attempting uninstall: pandas\n",
      "    Found existing installation: pandas 2.3.0\n",
      "    Uninstalling pandas-2.3.0:\n",
      "      Successfully uninstalled pandas-2.3.0\n",
      "\u001b[31mERROR: pip's dependency resolver does not currently take into account all the packages that are installed. This behaviour is the source of the following dependency conflicts.\n",
      "arcgis 2.3.0.3 requires pandas<2.2.0,>=2.0.0, but you have pandas 2.2.3 which is incompatible.\n",
      "arcgis 2.3.0.3 requires requests<2.32.0,>=2.30.0, but you have requests 2.28.2 which is incompatible.\n",
      "pycaret 3.3.2 requires pandas<2.2.0, but you have pandas 2.2.3 which is incompatible.\n",
      "sktime 0.26.0 requires pandas<2.2.0,>=1.1, but you have pandas 2.2.3 which is incompatible.\u001b[0m\u001b[31m\n",
      "\u001b[0mSuccessfully installed pandas-2.2.3\n"
     ]
    }
   ],
   "source": [
    "!pip install ydata_profiling==4.16.1\n",
    "!pip install pandas==2.2.3"
   ]
  },
  {
   "cell_type": "code",
   "execution_count": 1,
   "id": "88f57b70-c5ec-41dc-bd8e-327ad85da13e",
   "metadata": {
    "tags": []
   },
   "outputs": [
    {
     "name": "stderr",
     "output_type": "stream",
     "text": [
      "/opt/anaconda3/lib/python3.9/site-packages/numba/core/decorators.py:262: NumbaDeprecationWarning: \u001b[1mnumba.generated_jit is deprecated. Please see the documentation at: https://numba.readthedocs.io/en/stable/reference/deprecation.html#deprecation-of-generated-jit for more information and advice on a suitable replacement.\u001b[0m\n",
      "  warnings.warn(msg, NumbaDeprecationWarning)\n",
      "/opt/anaconda3/lib/python3.9/site-packages/visions/backends/shared/nan_handling.py:51: NumbaDeprecationWarning: \u001b[1mThe 'nopython' keyword argument was not supplied to the 'numba.jit' decorator. The implicit default value for this argument is currently False, but it will be changed to True in Numba 0.59.0. See https://numba.readthedocs.io/en/stable/reference/deprecation.html#deprecation-of-object-mode-fall-back-behaviour-when-using-jit for details.\u001b[0m\n",
      "  def hasna(x: np.ndarray) -> bool:\n"
     ]
    },
    {
     "data": {
      "text/html": [
       "\n",
       "            <div>\n",
       "                <ins><a href=\"https://ydata.ai/register\">Upgrade to ydata-sdk</a></ins>\n",
       "                <p>\n",
       "                    Improve your data and profiling with ydata-sdk, featuring data quality scoring, redundancy detection, outlier identification, text validation, and synthetic data generation.\n",
       "                </p>\n",
       "            </div>\n",
       "            "
      ],
      "text/plain": [
       "<IPython.core.display.HTML object>"
      ]
     },
     "metadata": {},
     "output_type": "display_data"
    },
    {
     "data": {
      "text/plain": [
       "'v4.16.1'"
      ]
     },
     "execution_count": 1,
     "metadata": {},
     "output_type": "execute_result"
    }
   ],
   "source": [
    "import ydata_profiling\n",
    "ydata_profiling.__version__"
   ]
  },
  {
   "cell_type": "code",
   "execution_count": 3,
   "id": "eeb96a5d-0c5e-4403-a5c6-109449f378df",
   "metadata": {
    "tags": []
   },
   "outputs": [],
   "source": [
    "import pandas as pd"
   ]
  },
  {
   "cell_type": "code",
   "execution_count": 4,
   "id": "63469a69-a184-4425-9110-ec9f89c403b5",
   "metadata": {
    "tags": []
   },
   "outputs": [
    {
     "data": {
      "text/plain": [
       "'2.2.3'"
      ]
     },
     "execution_count": 4,
     "metadata": {},
     "output_type": "execute_result"
    }
   ],
   "source": [
    "pd.__version__"
   ]
  },
  {
   "cell_type": "code",
   "execution_count": 5,
   "id": "07e510d9-9339-44ee-9a03-8469272b98b3",
   "metadata": {
    "tags": []
   },
   "outputs": [],
   "source": [
    "from ydata_profiling import ProfileReport"
   ]
  },
  {
   "cell_type": "code",
   "execution_count": 6,
   "id": "6bf0efca-2501-41bc-b3ee-b3f40acb75da",
   "metadata": {
    "tags": []
   },
   "outputs": [],
   "source": [
    "titanic = pd.read_csv(\"ML-datasets-master/titanic.csv\")"
   ]
  },
  {
   "cell_type": "code",
   "execution_count": 7,
   "id": "dba360c3-b1bd-46ab-a892-9024687fe63a",
   "metadata": {
    "tags": []
   },
   "outputs": [],
   "source": [
    "# generowanie raportu\n",
    "report = ProfileReport(titanic)"
   ]
  },
  {
   "cell_type": "code",
   "execution_count": 8,
   "id": "0e50dafb-2e53-4ac7-9119-c947a580bed1",
   "metadata": {
    "tags": []
   },
   "outputs": [
    {
     "name": "stderr",
     "output_type": "stream",
     "text": [
      "/opt/anaconda3/lib/python3.9/site-packages/ydata_profiling/profile_report.py:365: UserWarning: Try running command: 'pip install --upgrade Pillow' to avoid ValueError\n",
      "  warnings.warn(\n"
     ]
    },
    {
     "data": {
      "application/vnd.jupyter.widget-view+json": {
       "model_id": "99d1aca1f29e451b9196710eca1ce370",
       "version_major": 2,
       "version_minor": 0
      },
      "text/plain": [
       "Summarize dataset:   0%|          | 0/5 [00:00<?, ?it/s]"
      ]
     },
     "metadata": {},
     "output_type": "display_data"
    },
    {
     "name": "stderr",
     "output_type": "stream",
     "text": [
      "\n",
      "  0%|                                                    | 0/12 [00:00<?, ?it/s]\u001b[A\n",
      "100%|███████████████████████████████████████████| 12/12 [00:00<00:00, 38.69it/s]\u001b[A\n"
     ]
    },
    {
     "data": {
      "application/vnd.jupyter.widget-view+json": {
       "model_id": "3a69fd84ffc9422b90580b677ebfa322",
       "version_major": 2,
       "version_minor": 0
      },
      "text/plain": [
       "Generate report structure:   0%|          | 0/1 [00:00<?, ?it/s]"
      ]
     },
     "metadata": {},
     "output_type": "display_data"
    },
    {
     "data": {
      "application/vnd.jupyter.widget-view+json": {
       "model_id": "8246bbdb62e8416cb12224d6cc84142c",
       "version_major": 2,
       "version_minor": 0
      },
      "text/plain": [
       "Render HTML:   0%|          | 0/1 [00:00<?, ?it/s]"
      ]
     },
     "metadata": {},
     "output_type": "display_data"
    },
    {
     "data": {
      "application/vnd.jupyter.widget-view+json": {
       "model_id": "c1fb53b827764699a8a23b9780adea29",
       "version_major": 2,
       "version_minor": 0
      },
      "text/plain": [
       "Export report to file:   0%|          | 0/1 [00:00<?, ?it/s]"
      ]
     },
     "metadata": {},
     "output_type": "display_data"
    }
   ],
   "source": [
    "# zapisywanie do html\n",
    "report.to_file(\"titanic.html\")"
   ]
  },
  {
   "cell_type": "code",
   "execution_count": null,
   "id": "5e31d927-f46f-4237-a688-cc22bfcc5121",
   "metadata": {},
   "outputs": [],
   "source": []
  }
 ],
 "metadata": {
  "kernelspec": {
   "display_name": "Python 3 (ipykernel)",
   "language": "python",
   "name": "python3"
  },
  "language_info": {
   "codemirror_mode": {
    "name": "ipython",
    "version": 3
   },
   "file_extension": ".py",
   "mimetype": "text/x-python",
   "name": "python",
   "nbconvert_exporter": "python",
   "pygments_lexer": "ipython3",
   "version": "3.9.16"
  }
 },
 "nbformat": 4,
 "nbformat_minor": 5
}
